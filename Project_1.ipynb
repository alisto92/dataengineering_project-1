{
 "cells": [
  {
   "cell_type": "markdown",
   "metadata": {},
   "source": [
    "# MIDS W205\n",
    "## Project 1\n",
    "### Submitted by: Alissa Stover\n",
    "### Due: Tuesday February 11th, 2020"
   ]
  },
  {
   "cell_type": "markdown",
   "metadata": {},
   "source": [
    "## Import Python packages"
   ]
  },
  {
   "cell_type": "code",
   "execution_count": 1,
   "metadata": {},
   "outputs": [],
   "source": [
    "import pandas as pd # pandas for data manipulation and processing\n",
    "import numpy as np\n",
    "%matplotlib inline\n",
    "import seaborn as sns # seaborn for visualizations"
   ]
  },
  {
   "cell_type": "markdown",
   "metadata": {},
   "source": [
    "## Data exploration & insights"
   ]
  },
  {
   "cell_type": "markdown",
   "metadata": {},
   "source": [
    "### What are the 5 most popular commuter trips? "
   ]
  },
  {
   "cell_type": "markdown",
   "metadata": {},
   "source": [
    "My definition of a typical commuter trip is as follows:\n",
    "\n",
    "* Under 45min long -- although there may be some individuals who bike over 45min to work, these would probably represent a different type of commuter outside of the norm \n",
    "* Commuter trips are often during rush hour -- during week-days and are between 7-9am or 4-6pm\n",
    "* Do not have the same start and end point (so they are used to get from one place to another) \n",
    "* *Can* include very short trips (e.g., a few minutes long) as long as the start and end point are different -- there could be some very economical commuters who use a bike to shave off a few minutes in their commute getting from point A to B.\n",
    "\n",
    "There are additional corrections to the start and end station names (see supplementary section below for justification)."
   ]
  },
  {
   "cell_type": "code",
   "execution_count": 2,
   "metadata": {},
   "outputs": [],
   "source": [
    "%%bigquery commuters_under45\n",
    "SELECT *,\n",
    "       CASE \n",
    "           WHEN EXTRACT(DAYOFWEEK FROM start_date) IN (2, 3, 4, 5, 6) AND ((EXTRACT(HOUR FROM start_date) >= 7 AND EXTRACT(HOUR FROM start_date) <= 9) OR (EXTRACT(HOUR FROM start_date) >= 16 AND EXTRACT(HOUR FROM start_date) <= 18)) THEN \"Rush\"\n",
    "           ELSE \"Not Rush\"\n",
    "           END AS rush_hour,\n",
    "        CASE \n",
    "           WHEN start_station_id = 30 THEN 'Evelyn Park and Ride' \n",
    "           WHEN start_station_id = 26 THEN 'Redwood City Medical Center'\n",
    "           WHEN start_station_id = 21 THEN 'Sequoia Hospital'\n",
    "           WHEN start_station_id = 33 THEN 'Rengstorff Avenue / California Street'\n",
    "           WHEN start_station_id = 25 THEN 'Broadway at Main'\n",
    "           WHEN start_station_id = 80 THEN 'San Jose Government Center'\n",
    "           WHEN start_station_id = 47 THEN 'Post at Kearny'\n",
    "           WHEN start_station_id = 46 THEN 'Washington at Kearny'\n",
    "           WHEN start_station_id = 83 THEN 'Mezes Park'\n",
    "           WHEN start_station_id = 88 THEN '5th St at E. San Salvador St'\n",
    "           ELSE start_station_name\n",
    "           END AS start_station_name_correct,\n",
    "        CASE WHEN end_station_id = 30 THEN 'Evelyn Park and Ride' \n",
    "           WHEN end_station_id = 26 THEN 'Redwood City Medical Center'\n",
    "           WHEN end_station_id = 21 THEN 'Sequoia Hospital'\n",
    "           WHEN end_station_id = 33 THEN 'Rengstorff Avenue / California Street'\n",
    "           WHEN end_station_id = 25 THEN 'Broadway at Main'\n",
    "           WHEN end_station_id = 80 THEN 'San Jose Government Center'\n",
    "           WHEN end_station_id = 47 THEN 'Post at Kearny'\n",
    "           WHEN end_station_id = 46 THEN 'Washington at Kearny'\n",
    "           WHEN end_station_id = 83 THEN 'Mezes Park'\n",
    "           WHEN end_station_id = 88 THEN '5th St at E. San Salvador St'\n",
    "           ELSE end_station_name\n",
    "           END AS end_station_name_correct,      \n",
    "\n",
    "FROM `bigquery-public-data.san_francisco.bikeshare_trips`\n",
    "WHERE EXTRACT(DAYOFWEEK FROM start_date) IN (2, 3, 4, 5, 6) AND ((EXTRACT(HOUR FROM start_date) >= 7 AND EXTRACT(HOUR FROM start_date) <= 9) OR (EXTRACT(HOUR FROM start_date) >= 16 AND EXTRACT(HOUR FROM start_date) <= 18)) AND duration_sec < 2700 AND start_station_id != end_station_id\n"
   ]
  },
  {
   "cell_type": "markdown",
   "metadata": {},
   "source": [
    "Let's look at some rows..."
   ]
  },
  {
   "cell_type": "code",
   "execution_count": 3,
   "metadata": {},
   "outputs": [
    {
     "data": {
      "text/html": [
       "<div>\n",
       "<style scoped>\n",
       "    .dataframe tbody tr th:only-of-type {\n",
       "        vertical-align: middle;\n",
       "    }\n",
       "\n",
       "    .dataframe tbody tr th {\n",
       "        vertical-align: top;\n",
       "    }\n",
       "\n",
       "    .dataframe thead th {\n",
       "        text-align: right;\n",
       "    }\n",
       "</style>\n",
       "<table border=\"1\" class=\"dataframe\">\n",
       "  <thead>\n",
       "    <tr style=\"text-align: right;\">\n",
       "      <th></th>\n",
       "      <th>start_date</th>\n",
       "      <th>end_date</th>\n",
       "      <th>subscriber_type</th>\n",
       "      <th>rush_hour</th>\n",
       "      <th>start_station_name_correct</th>\n",
       "      <th>end_station_name_correct</th>\n",
       "    </tr>\n",
       "  </thead>\n",
       "  <tbody>\n",
       "    <tr>\n",
       "      <th>0</th>\n",
       "      <td>2015-10-05 16:41:00+00:00</td>\n",
       "      <td>2015-10-05 16:51:00+00:00</td>\n",
       "      <td>Subscriber</td>\n",
       "      <td>Rush</td>\n",
       "      <td>Sequoia Hospital</td>\n",
       "      <td>Mezes Park</td>\n",
       "    </tr>\n",
       "    <tr>\n",
       "      <th>1</th>\n",
       "      <td>2015-12-04 17:32:00+00:00</td>\n",
       "      <td>2015-12-04 17:37:00+00:00</td>\n",
       "      <td>Subscriber</td>\n",
       "      <td>Rush</td>\n",
       "      <td>Redwood City Caltrain Station</td>\n",
       "      <td>Mezes Park</td>\n",
       "    </tr>\n",
       "    <tr>\n",
       "      <th>2</th>\n",
       "      <td>2015-09-30 09:59:00+00:00</td>\n",
       "      <td>2015-09-30 10:02:00+00:00</td>\n",
       "      <td>Subscriber</td>\n",
       "      <td>Rush</td>\n",
       "      <td>Redwood City Caltrain Station</td>\n",
       "      <td>Mezes Park</td>\n",
       "    </tr>\n",
       "    <tr>\n",
       "      <th>3</th>\n",
       "      <td>2015-10-27 17:32:00+00:00</td>\n",
       "      <td>2015-10-27 17:38:00+00:00</td>\n",
       "      <td>Subscriber</td>\n",
       "      <td>Rush</td>\n",
       "      <td>Redwood City Caltrain Station</td>\n",
       "      <td>Mezes Park</td>\n",
       "    </tr>\n",
       "    <tr>\n",
       "      <th>4</th>\n",
       "      <td>2015-11-13 17:09:00+00:00</td>\n",
       "      <td>2015-11-13 17:15:00+00:00</td>\n",
       "      <td>Subscriber</td>\n",
       "      <td>Rush</td>\n",
       "      <td>Redwood City Caltrain Station</td>\n",
       "      <td>Mezes Park</td>\n",
       "    </tr>\n",
       "  </tbody>\n",
       "</table>\n",
       "</div>"
      ],
      "text/plain": [
       "                 start_date                  end_date subscriber_type  \\\n",
       "0 2015-10-05 16:41:00+00:00 2015-10-05 16:51:00+00:00      Subscriber   \n",
       "1 2015-12-04 17:32:00+00:00 2015-12-04 17:37:00+00:00      Subscriber   \n",
       "2 2015-09-30 09:59:00+00:00 2015-09-30 10:02:00+00:00      Subscriber   \n",
       "3 2015-10-27 17:32:00+00:00 2015-10-27 17:38:00+00:00      Subscriber   \n",
       "4 2015-11-13 17:09:00+00:00 2015-11-13 17:15:00+00:00      Subscriber   \n",
       "\n",
       "  rush_hour     start_station_name_correct end_station_name_correct  \n",
       "0      Rush               Sequoia Hospital               Mezes Park  \n",
       "1      Rush  Redwood City Caltrain Station               Mezes Park  \n",
       "2      Rush  Redwood City Caltrain Station               Mezes Park  \n",
       "3      Rush  Redwood City Caltrain Station               Mezes Park  \n",
       "4      Rush  Redwood City Caltrain Station               Mezes Park  "
      ]
     },
     "execution_count": 3,
     "metadata": {},
     "output_type": "execute_result"
    }
   ],
   "source": [
    "commuters_under45.filter([\"start_date\", \"end_date\", \"subscriber_type\", \"rush_hour\", \"start_station_name_correct\", \"end_station_name_correct\"]).head()\n"
   ]
  },
  {
   "cell_type": "markdown",
   "metadata": {},
   "source": [
    "550,130 rides fit our definition of a commuter trip: "
   ]
  },
  {
   "cell_type": "code",
   "execution_count": 4,
   "metadata": {},
   "outputs": [
    {
     "data": {
      "text/plain": [
       "(550130, 14)"
      ]
     },
     "execution_count": 4,
     "metadata": {},
     "output_type": "execute_result"
    }
   ],
   "source": [
    "commuters_under45.shape"
   ]
  },
  {
   "cell_type": "markdown",
   "metadata": {},
   "source": [
    "Let's look at the top 5 station combinations that fit our time limit conditions and our definition of a commuter trip:"
   ]
  },
  {
   "cell_type": "code",
   "execution_count": 5,
   "metadata": {},
   "outputs": [],
   "source": [
    "%%bigquery top_5_commuter_trips\n",
    "SELECT start_station_id, end_station_id, start_station_name, end_station_name, \n",
    "        CASE \n",
    "           WHEN start_station_id = 30 THEN 'Evelyn Park and Ride' \n",
    "           WHEN start_station_id = 26 THEN 'Redwood City Medical Center'\n",
    "           WHEN start_station_id = 21 THEN 'Sequoia Hospital'\n",
    "           WHEN start_station_id = 33 THEN 'Rengstorff Avenue / California Street'\n",
    "           WHEN start_station_id = 25 THEN 'Broadway at Main'\n",
    "           WHEN start_station_id = 80 THEN 'San Jose Government Center'\n",
    "           WHEN start_station_id = 47 THEN 'Post at Kearny'\n",
    "           WHEN start_station_id = 46 THEN 'Washington at Kearny'\n",
    "           WHEN start_station_id = 83 THEN 'Mezes Park'\n",
    "           WHEN start_station_id = 88 THEN '5th St at E. San Salvador St'\n",
    "           ELSE start_station_name\n",
    "           END AS start_station_name_correct,\n",
    "        CASE WHEN end_station_id = 30 THEN 'Evelyn Park and Ride' \n",
    "           WHEN end_station_id = 26 THEN 'Redwood City Medical Center'\n",
    "           WHEN end_station_id = 21 THEN 'Sequoia Hospital'\n",
    "           WHEN end_station_id = 33 THEN 'Rengstorff Avenue / California Street'\n",
    "           WHEN end_station_id = 25 THEN 'Broadway at Main'\n",
    "           WHEN end_station_id = 80 THEN 'San Jose Government Center'\n",
    "           WHEN end_station_id = 47 THEN 'Post at Kearny'\n",
    "           WHEN end_station_id = 46 THEN 'Washington at Kearny'\n",
    "           WHEN end_station_id = 83 THEN 'Mezes Park'\n",
    "           WHEN end_station_id = 88 THEN '5th St at E. San Salvador St'\n",
    "           ELSE end_station_name\n",
    "           END AS end_station_name_correct,\n",
    "COUNT(*) as trip_freq \n",
    "\n",
    "FROM `bigquery-public-data.san_francisco.bikeshare_trips` \n",
    "WHERE EXTRACT(DAYOFWEEK FROM start_date) IN (2, 3, 4, 5, 6) AND ((EXTRACT(HOUR FROM start_date) >= 7 AND EXTRACT(HOUR FROM start_date) <= 9) OR (EXTRACT(HOUR FROM start_date) >= 16 AND EXTRACT(HOUR FROM start_date) <= 18)) AND duration_sec < 2700 AND start_station_id != end_station_id\n",
    "GROUP BY start_station_id, end_station_id, start_station_name, end_station_name\n",
    "ORDER BY trip_freq DESC \n",
    "LIMIT 5"
   ]
  },
  {
   "cell_type": "code",
   "execution_count": 6,
   "metadata": {},
   "outputs": [
    {
     "data": {
      "text/html": [
       "<div>\n",
       "<style scoped>\n",
       "    .dataframe tbody tr th:only-of-type {\n",
       "        vertical-align: middle;\n",
       "    }\n",
       "\n",
       "    .dataframe tbody tr th {\n",
       "        vertical-align: top;\n",
       "    }\n",
       "\n",
       "    .dataframe thead th {\n",
       "        text-align: right;\n",
       "    }\n",
       "</style>\n",
       "<table border=\"1\" class=\"dataframe\">\n",
       "  <thead>\n",
       "    <tr style=\"text-align: right;\">\n",
       "      <th></th>\n",
       "      <th>start_station_name_correct</th>\n",
       "      <th>end_station_name_correct</th>\n",
       "      <th>trip_freq</th>\n",
       "    </tr>\n",
       "  </thead>\n",
       "  <tbody>\n",
       "    <tr>\n",
       "      <th>0</th>\n",
       "      <td>2nd at Townsend</td>\n",
       "      <td>Harry Bridges Plaza (Ferry Building)</td>\n",
       "      <td>5163</td>\n",
       "    </tr>\n",
       "    <tr>\n",
       "      <th>1</th>\n",
       "      <td>Harry Bridges Plaza (Ferry Building)</td>\n",
       "      <td>2nd at Townsend</td>\n",
       "      <td>5120</td>\n",
       "    </tr>\n",
       "    <tr>\n",
       "      <th>2</th>\n",
       "      <td>San Francisco Caltrain 2 (330 Townsend)</td>\n",
       "      <td>Townsend at 7th</td>\n",
       "      <td>5028</td>\n",
       "    </tr>\n",
       "    <tr>\n",
       "      <th>3</th>\n",
       "      <td>Embarcadero at Sansome</td>\n",
       "      <td>Steuart at Market</td>\n",
       "      <td>4891</td>\n",
       "    </tr>\n",
       "    <tr>\n",
       "      <th>4</th>\n",
       "      <td>Embarcadero at Folsom</td>\n",
       "      <td>San Francisco Caltrain (Townsend at 4th)</td>\n",
       "      <td>4750</td>\n",
       "    </tr>\n",
       "  </tbody>\n",
       "</table>\n",
       "</div>"
      ],
      "text/plain": [
       "                start_station_name_correct  \\\n",
       "0                          2nd at Townsend   \n",
       "1     Harry Bridges Plaza (Ferry Building)   \n",
       "2  San Francisco Caltrain 2 (330 Townsend)   \n",
       "3                   Embarcadero at Sansome   \n",
       "4                    Embarcadero at Folsom   \n",
       "\n",
       "                   end_station_name_correct  trip_freq  \n",
       "0      Harry Bridges Plaza (Ferry Building)       5163  \n",
       "1                           2nd at Townsend       5120  \n",
       "2                           Townsend at 7th       5028  \n",
       "3                         Steuart at Market       4891  \n",
       "4  San Francisco Caltrain (Townsend at 4th)       4750  "
      ]
     },
     "execution_count": 6,
     "metadata": {},
     "output_type": "execute_result"
    }
   ],
   "source": [
    "top_5_commuter_trips.filter([\"start_station_name_correct\", \"end_station_name_correct\", \"trip_freq\"])\n"
   ]
  },
  {
   "cell_type": "code",
   "execution_count": 7,
   "metadata": {},
   "outputs": [],
   "source": [
    "# add a column to record the start and end station names in one cell for easier plotting.\n",
    "top_5_commuter_trips[\"trip\"] = top_5_commuter_trips[\"start_station_name_correct\"] + \" to \" + top_5_commuter_trips[\"end_station_name_correct\"]\n",
    "\n"
   ]
  },
  {
   "cell_type": "code",
   "execution_count": 8,
   "metadata": {},
   "outputs": [
    {
     "data": {
      "image/png": "[encoded data removed]",
      "text/plain": [
       "<Figure size 432x288 with 1 Axes>"
      ]
     },
     "metadata": {
      "needs_background": "light"
     },
     "output_type": "display_data"
    }
   ],
   "source": [
    "ax = sns.barplot(top_5_commuter_trips[\"trip_freq\"], top_5_commuter_trips[\"trip\"], color = 'tab:purple')\n",
    "ax.set(xlabel = \"Frequency\", ylabel = \"\", title = \"Top 5 Most Popular Commuter Trips\")\n",
    "ax.set_yticklabels(top_5_commuter_trips[\"start_station_name_correct\"] + \" to\\n\" + top_5_commuter_trips[\"end_station_name_correct\"]);\n"
   ]
  },
  {
   "cell_type": "markdown",
   "metadata": {},
   "source": [
    "## What are recommendations for offers?"
   ]
  },
  {
   "cell_type": "markdown",
   "metadata": {},
   "source": [
    "### Is the Subscription offer sufficient for commuter riders? "
   ]
  },
  {
   "cell_type": "markdown",
   "metadata": {},
   "source": [
    "#### What are some differences in commuter trips for subscribers versus other customers?\n",
    "\n",
    "The below analysis was used to identify whether the existing subscription offer was meeting the needs of regular commuter riders. Based on these findings, it appears that the subscription is a desirable offer for thes riders. "
   ]
  },
  {
   "cell_type": "code",
   "execution_count": 9,
   "metadata": {},
   "outputs": [],
   "source": [
    "%%bigquery top_5_commuter_trips_subscribers\n",
    "SELECT start_station_id, end_station_id, start_station_name, end_station_name, \n",
    "        CASE \n",
    "           WHEN start_station_id = 30 THEN 'Evelyn Park and Ride' \n",
    "           WHEN start_station_id = 26 THEN 'Redwood City Medical Center'\n",
    "           WHEN start_station_id = 21 THEN 'Sequoia Hospital'\n",
    "           WHEN start_station_id = 33 THEN 'Rengstorff Avenue / California Street'\n",
    "           WHEN start_station_id = 25 THEN 'Broadway at Main'\n",
    "           WHEN start_station_id = 80 THEN 'San Jose Government Center'\n",
    "           WHEN start_station_id = 47 THEN 'Post at Kearny'\n",
    "           WHEN start_station_id = 46 THEN 'Washington at Kearny'\n",
    "           WHEN start_station_id = 83 THEN 'Mezes Park'\n",
    "           WHEN start_station_id = 88 THEN '5th St at E. San Salvador St'\n",
    "           ELSE start_station_name\n",
    "           END AS start_station_name_correct,\n",
    "        CASE WHEN end_station_id = 30 THEN 'Evelyn Park and Ride' \n",
    "           WHEN end_station_id = 26 THEN 'Redwood City Medical Center'\n",
    "           WHEN end_station_id = 21 THEN 'Sequoia Hospital'\n",
    "           WHEN end_station_id = 33 THEN 'Rengstorff Avenue / California Street'\n",
    "           WHEN end_station_id = 25 THEN 'Broadway at Main'\n",
    "           WHEN end_station_id = 80 THEN 'San Jose Government Center'\n",
    "           WHEN end_station_id = 47 THEN 'Post at Kearny'\n",
    "           WHEN end_station_id = 46 THEN 'Washington at Kearny'\n",
    "           WHEN end_station_id = 83 THEN 'Mezes Park'\n",
    "           WHEN end_station_id = 88 THEN '5th St at E. San Salvador St'\n",
    "           ELSE end_station_name\n",
    "           END AS end_station_name_correct,\n",
    "COUNT(*) as trip_freq \n",
    "FROM `bigquery-public-data.san_francisco.bikeshare_trips` \n",
    "WHERE subscriber_type = \"Subscriber\" AND EXTRACT(DAYOFWEEK FROM start_date) IN (2, 3, 4, 5, 6) AND ((EXTRACT(HOUR FROM start_date) >= 7 AND EXTRACT(HOUR FROM start_date) <= 9) OR (EXTRACT(HOUR FROM start_date) >= 16 AND EXTRACT(HOUR FROM start_date) <= 18)) AND duration_sec < 2700 AND start_station_id != end_station_id\n",
    "GROUP BY start_station_id, end_station_id, start_station_name, end_station_name\n",
    "ORDER BY trip_freq DESC \n",
    "LIMIT 5"
   ]
  },
  {
   "cell_type": "code",
   "execution_count": 10,
   "metadata": {},
   "outputs": [
    {
     "data": {
      "text/html": [
       "<div>\n",
       "<style scoped>\n",
       "    .dataframe tbody tr th:only-of-type {\n",
       "        vertical-align: middle;\n",
       "    }\n",
       "\n",
       "    .dataframe tbody tr th {\n",
       "        vertical-align: top;\n",
       "    }\n",
       "\n",
       "    .dataframe thead th {\n",
       "        text-align: right;\n",
       "    }\n",
       "</style>\n",
       "<table border=\"1\" class=\"dataframe\">\n",
       "  <thead>\n",
       "    <tr style=\"text-align: right;\">\n",
       "      <th></th>\n",
       "      <th>start_station_name_correct</th>\n",
       "      <th>end_station_name_correct</th>\n",
       "      <th>trip_freq</th>\n",
       "    </tr>\n",
       "  </thead>\n",
       "  <tbody>\n",
       "    <tr>\n",
       "      <th>0</th>\n",
       "      <td>2nd at Townsend</td>\n",
       "      <td>Harry Bridges Plaza (Ferry Building)</td>\n",
       "      <td>5032</td>\n",
       "    </tr>\n",
       "    <tr>\n",
       "      <th>1</th>\n",
       "      <td>Harry Bridges Plaza (Ferry Building)</td>\n",
       "      <td>2nd at Townsend</td>\n",
       "      <td>4970</td>\n",
       "    </tr>\n",
       "    <tr>\n",
       "      <th>2</th>\n",
       "      <td>San Francisco Caltrain 2 (330 Townsend)</td>\n",
       "      <td>Townsend at 7th</td>\n",
       "      <td>4948</td>\n",
       "    </tr>\n",
       "    <tr>\n",
       "      <th>3</th>\n",
       "      <td>Embarcadero at Sansome</td>\n",
       "      <td>Steuart at Market</td>\n",
       "      <td>4685</td>\n",
       "    </tr>\n",
       "    <tr>\n",
       "      <th>4</th>\n",
       "      <td>Embarcadero at Folsom</td>\n",
       "      <td>San Francisco Caltrain (Townsend at 4th)</td>\n",
       "      <td>4683</td>\n",
       "    </tr>\n",
       "  </tbody>\n",
       "</table>\n",
       "</div>"
      ],
      "text/plain": [
       "                start_station_name_correct  \\\n",
       "0                          2nd at Townsend   \n",
       "1     Harry Bridges Plaza (Ferry Building)   \n",
       "2  San Francisco Caltrain 2 (330 Townsend)   \n",
       "3                   Embarcadero at Sansome   \n",
       "4                    Embarcadero at Folsom   \n",
       "\n",
       "                   end_station_name_correct  trip_freq  \n",
       "0      Harry Bridges Plaza (Ferry Building)       5032  \n",
       "1                           2nd at Townsend       4970  \n",
       "2                           Townsend at 7th       4948  \n",
       "3                         Steuart at Market       4685  \n",
       "4  San Francisco Caltrain (Townsend at 4th)       4683  "
      ]
     },
     "execution_count": 10,
     "metadata": {},
     "output_type": "execute_result"
    }
   ],
   "source": [
    "top_5_commuter_trips_subscribers.filter([\"start_station_name_correct\", \"end_station_name_correct\", \"trip_freq\"])"
   ]
  },
  {
   "cell_type": "code",
   "execution_count": 11,
   "metadata": {},
   "outputs": [],
   "source": [
    "# add a column to record the start and end station names in one cell for easier plotting.\n",
    "top_5_commuter_trips_subscribers[\"trip\"] = top_5_commuter_trips_subscribers[\"start_station_name_correct\"] + \" to \" + top_5_commuter_trips_subscribers[\"end_station_name_correct\"]\n"
   ]
  },
  {
   "cell_type": "code",
   "execution_count": 12,
   "metadata": {},
   "outputs": [
    {
     "data": {
      "image/png": "[encoded data removed]",
      "text/plain": [
       "<Figure size 432x288 with 1 Axes>"
      ]
     },
     "metadata": {
      "needs_background": "light"
     },
     "output_type": "display_data"
    }
   ],
   "source": [
    "ax = sns.barplot(top_5_commuter_trips_subscribers[\"trip_freq\"], top_5_commuter_trips_subscribers[\"trip\"], color = 'tab:blue')\n",
    "ax.set(xlabel = \"Frequency\", ylabel = \"\", title = \"Top 5 Most Popular Commuter Trips for Subscribers\")\n",
    "ax.set_yticklabels(top_5_commuter_trips_subscribers[\"start_station_name_correct\"] + \" to\\n\" + top_5_commuter_trips_subscribers[\"end_station_name_correct\"]);\n"
   ]
  },
  {
   "cell_type": "code",
   "execution_count": 13,
   "metadata": {},
   "outputs": [],
   "source": [
    "%%bigquery top_5_commuter_trips_customers\n",
    "SELECT start_station_id, end_station_id, start_station_name, end_station_name, \n",
    "        CASE \n",
    "           WHEN start_station_id = 30 THEN 'Evelyn Park and Ride' \n",
    "           WHEN start_station_id = 26 THEN 'Redwood City Medical Center'\n",
    "           WHEN start_station_id = 21 THEN 'Sequoia Hospital'\n",
    "           WHEN start_station_id = 33 THEN 'Rengstorff Avenue / California Street'\n",
    "           WHEN start_station_id = 25 THEN 'Broadway at Main'\n",
    "           WHEN start_station_id = 80 THEN 'San Jose Government Center'\n",
    "           WHEN start_station_id = 47 THEN 'Post at Kearny'\n",
    "           WHEN start_station_id = 46 THEN 'Washington at Kearny'\n",
    "           WHEN start_station_id = 83 THEN 'Mezes Park'\n",
    "           WHEN start_station_id = 88 THEN '5th St at E. San Salvador St'\n",
    "           ELSE start_station_name\n",
    "           END AS start_station_name_correct,\n",
    "        CASE WHEN end_station_id = 30 THEN 'Evelyn Park and Ride' \n",
    "           WHEN end_station_id = 26 THEN 'Redwood City Medical Center'\n",
    "           WHEN end_station_id = 21 THEN 'Sequoia Hospital'\n",
    "           WHEN end_station_id = 33 THEN 'Rengstorff Avenue / California Street'\n",
    "           WHEN end_station_id = 25 THEN 'Broadway at Main'\n",
    "           WHEN end_station_id = 80 THEN 'San Jose Government Center'\n",
    "           WHEN end_station_id = 47 THEN 'Post at Kearny'\n",
    "           WHEN end_station_id = 46 THEN 'Washington at Kearny'\n",
    "           WHEN end_station_id = 83 THEN 'Mezes Park'\n",
    "           WHEN end_station_id = 88 THEN '5th St at E. San Salvador St'\n",
    "           ELSE end_station_name\n",
    "           END AS end_station_name_correct,\n",
    "COUNT(*) as trip_freq \n",
    "FROM `bigquery-public-data.san_francisco.bikeshare_trips` \n",
    "WHERE subscriber_type = \"Customer\" AND EXTRACT(DAYOFWEEK FROM start_date) IN (2, 3, 4, 5, 6) AND ((EXTRACT(HOUR FROM start_date) >= 7 AND EXTRACT(HOUR FROM start_date) <= 9) OR (EXTRACT(HOUR FROM start_date) >= 16 AND EXTRACT(HOUR FROM start_date) <= 18)) AND duration_sec < 2700 AND start_station_id != end_station_id\n",
    "GROUP BY start_station_id, end_station_id, start_station_name, end_station_name\n",
    "ORDER BY trip_freq DESC \n",
    "LIMIT 5"
   ]
  },
  {
   "cell_type": "code",
   "execution_count": 14,
   "metadata": {},
   "outputs": [
    {
     "data": {
      "text/html": [
       "<div>\n",
       "<style scoped>\n",
       "    .dataframe tbody tr th:only-of-type {\n",
       "        vertical-align: middle;\n",
       "    }\n",
       "\n",
       "    .dataframe tbody tr th {\n",
       "        vertical-align: top;\n",
       "    }\n",
       "\n",
       "    .dataframe thead th {\n",
       "        text-align: right;\n",
       "    }\n",
       "</style>\n",
       "<table border=\"1\" class=\"dataframe\">\n",
       "  <thead>\n",
       "    <tr style=\"text-align: right;\">\n",
       "      <th></th>\n",
       "      <th>start_station_name_correct</th>\n",
       "      <th>end_station_name_correct</th>\n",
       "      <th>trip_freq</th>\n",
       "    </tr>\n",
       "  </thead>\n",
       "  <tbody>\n",
       "    <tr>\n",
       "      <th>0</th>\n",
       "      <td>Harry Bridges Plaza (Ferry Building)</td>\n",
       "      <td>Embarcadero at Sansome</td>\n",
       "      <td>532</td>\n",
       "    </tr>\n",
       "    <tr>\n",
       "      <th>1</th>\n",
       "      <td>Embarcadero at Sansome</td>\n",
       "      <td>Harry Bridges Plaza (Ferry Building)</td>\n",
       "      <td>257</td>\n",
       "    </tr>\n",
       "    <tr>\n",
       "      <th>2</th>\n",
       "      <td>Embarcadero at Sansome</td>\n",
       "      <td>Steuart at Market</td>\n",
       "      <td>206</td>\n",
       "    </tr>\n",
       "    <tr>\n",
       "      <th>3</th>\n",
       "      <td>Embarcadero at Sansome</td>\n",
       "      <td>2nd at Townsend</td>\n",
       "      <td>157</td>\n",
       "    </tr>\n",
       "    <tr>\n",
       "      <th>4</th>\n",
       "      <td>Embarcadero at Vallejo</td>\n",
       "      <td>Embarcadero at Sansome</td>\n",
       "      <td>154</td>\n",
       "    </tr>\n",
       "  </tbody>\n",
       "</table>\n",
       "</div>"
      ],
      "text/plain": [
       "             start_station_name_correct              end_station_name_correct  \\\n",
       "0  Harry Bridges Plaza (Ferry Building)                Embarcadero at Sansome   \n",
       "1                Embarcadero at Sansome  Harry Bridges Plaza (Ferry Building)   \n",
       "2                Embarcadero at Sansome                     Steuart at Market   \n",
       "3                Embarcadero at Sansome                       2nd at Townsend   \n",
       "4                Embarcadero at Vallejo                Embarcadero at Sansome   \n",
       "\n",
       "   trip_freq  \n",
       "0        532  \n",
       "1        257  \n",
       "2        206  \n",
       "3        157  \n",
       "4        154  "
      ]
     },
     "execution_count": 14,
     "metadata": {},
     "output_type": "execute_result"
    }
   ],
   "source": [
    "top_5_commuter_trips_customers.filter([\"start_station_name_correct\", \"end_station_name_correct\", \"trip_freq\"])\n"
   ]
  },
  {
   "cell_type": "code",
   "execution_count": 15,
   "metadata": {},
   "outputs": [],
   "source": [
    "# add a column to record the start and end station names in one cell for easier plotting.\n",
    "top_5_commuter_trips_customers[\"trip\"] = top_5_commuter_trips_customers[\"start_station_name_correct\"] + \" to \" + top_5_commuter_trips_customers[\"end_station_name_correct\"]\n"
   ]
  },
  {
   "cell_type": "code",
   "execution_count": 16,
   "metadata": {},
   "outputs": [
    {
     "data": {
      "image/png": "[encoded data removed]",
      "text/plain": [
       "<Figure size 432x288 with 1 Axes>"
      ]
     },
     "metadata": {
      "needs_background": "light"
     },
     "output_type": "display_data"
    }
   ],
   "source": [
    "ax = sns.barplot(top_5_commuter_trips_customers[\"trip_freq\"], top_5_commuter_trips_customers[\"trip\"], color = \"tab:red\")\n",
    "ax.set(xlabel = \"Frequency\", ylabel = \"\", title = \"Top 5 Most Popular Commuter Trips for Non-Subscribers\")\n",
    "ax.set_yticklabels(top_5_commuter_trips_customers[\"start_station_name_correct\"] + \" to\\n\" + top_5_commuter_trips_customers[\"end_station_name_correct\"]);\n"
   ]
  },
  {
   "cell_type": "markdown",
   "metadata": {},
   "source": [
    "There are 550,130 total commuter trips (as noted above):"
   ]
  },
  {
   "cell_type": "code",
   "execution_count": 17,
   "metadata": {},
   "outputs": [
    {
     "data": {
      "text/html": [
       "<div>\n",
       "<style scoped>\n",
       "    .dataframe tbody tr th:only-of-type {\n",
       "        vertical-align: middle;\n",
       "    }\n",
       "\n",
       "    .dataframe tbody tr th {\n",
       "        vertical-align: top;\n",
       "    }\n",
       "\n",
       "    .dataframe thead th {\n",
       "        text-align: right;\n",
       "    }\n",
       "</style>\n",
       "<table border=\"1\" class=\"dataframe\">\n",
       "  <thead>\n",
       "    <tr style=\"text-align: right;\">\n",
       "      <th></th>\n",
       "      <th>f0_</th>\n",
       "    </tr>\n",
       "  </thead>\n",
       "  <tbody>\n",
       "    <tr>\n",
       "      <th>0</th>\n",
       "      <td>550130</td>\n",
       "    </tr>\n",
       "  </tbody>\n",
       "</table>\n",
       "</div>"
      ],
      "text/plain": [
       "      f0_\n",
       "0  550130"
      ]
     },
     "execution_count": 17,
     "metadata": {},
     "output_type": "execute_result"
    }
   ],
   "source": [
    "%%bigquery \n",
    "SELECT COUNT(*),\n",
    "FROM `bigquery-public-data.san_francisco.bikeshare_trips`\n",
    "WHERE EXTRACT(DAYOFWEEK FROM start_date) IN (2, 3, 4, 5, 6) AND ((EXTRACT(HOUR FROM start_date) >= 7 AND EXTRACT(HOUR FROM start_date) <= 9) OR (EXTRACT(HOUR FROM start_date) >= 16 AND EXTRACT(HOUR FROM start_date) <= 18)) AND duration_sec < 2700 AND start_station_id != end_station_id\n"
   ]
  },
  {
   "cell_type": "markdown",
   "metadata": {},
   "source": [
    "525,561 (96%) of these are taken by subscribed customers."
   ]
  },
  {
   "cell_type": "code",
   "execution_count": 18,
   "metadata": {},
   "outputs": [
    {
     "data": {
      "text/html": [
       "<div>\n",
       "<style scoped>\n",
       "    .dataframe tbody tr th:only-of-type {\n",
       "        vertical-align: middle;\n",
       "    }\n",
       "\n",
       "    .dataframe tbody tr th {\n",
       "        vertical-align: top;\n",
       "    }\n",
       "\n",
       "    .dataframe thead th {\n",
       "        text-align: right;\n",
       "    }\n",
       "</style>\n",
       "<table border=\"1\" class=\"dataframe\">\n",
       "  <thead>\n",
       "    <tr style=\"text-align: right;\">\n",
       "      <th></th>\n",
       "      <th>f0_</th>\n",
       "    </tr>\n",
       "  </thead>\n",
       "  <tbody>\n",
       "    <tr>\n",
       "      <th>0</th>\n",
       "      <td>525561</td>\n",
       "    </tr>\n",
       "  </tbody>\n",
       "</table>\n",
       "</div>"
      ],
      "text/plain": [
       "      f0_\n",
       "0  525561"
      ]
     },
     "execution_count": 18,
     "metadata": {},
     "output_type": "execute_result"
    }
   ],
   "source": [
    "%%bigquery \n",
    "SELECT COUNT(*),\n",
    "FROM `bigquery-public-data.san_francisco.bikeshare_trips`\n",
    "WHERE subscriber_type = \"Subscriber\" AND EXTRACT(DAYOFWEEK FROM start_date) IN (2, 3, 4, 5, 6) AND ((EXTRACT(HOUR FROM start_date) >= 7 AND EXTRACT(HOUR FROM start_date) <= 9) OR (EXTRACT(HOUR FROM start_date) >= 16 AND EXTRACT(HOUR FROM start_date) <= 18)) AND duration_sec < 2700 AND start_station_id != end_station_id\n"
   ]
  },
  {
   "cell_type": "code",
   "execution_count": 19,
   "metadata": {},
   "outputs": [
    {
     "data": {
      "text/plain": [
       "0.955339646992529"
      ]
     },
     "execution_count": 19,
     "metadata": {},
     "output_type": "execute_result"
    }
   ],
   "source": [
    "525561/550130"
   ]
  },
  {
   "cell_type": "markdown",
   "metadata": {},
   "source": [
    "### Recommendation for Commuter Rider Offers:\n",
    "\n",
    "From the above analysis, it is clear that the vast majority of commuter riders are already subscribers! This is great news since it indicates that even for shorter trips (under 45min), people are finding value in the subscription. I recommend that we retain the existing Subscription offers for our commuters. "
   ]
  },
  {
   "cell_type": "markdown",
   "metadata": {},
   "source": [
    "### Are there other types of commuters that are using the bikes?\n",
    "\n",
    "We can see that most of our rides are under 45min. But are there longer rides people are taking during rush hour? "
   ]
  },
  {
   "cell_type": "markdown",
   "metadata": {},
   "source": [
    "#### Are commuters who take rides over 45min different from those who take rides under 45min? \n",
    "\n",
    "In our above definition of commuter trips, we filtered out trips with the same start and end point. \n",
    "\n",
    "However, we could have two groups of people who are using the bikes to commute:\n",
    "\n",
    "1. People who have relatively shorter rides (under 45min) and rent a bike to get from home to work then rent another bike later in the day to get from work to home.\n",
    "\n",
    "2. People with much longer rides who rent the bike for the day: they use the bike to get from home to work, park it at work, then take it back to the station later. We will group rides into this category if they are between 6-10 hours long. This would include people who worked a half-day (4 hours), then biked ~1 hour to and from work, as well as people who worked a full-day (8 hours), then biked ~1 hour to and from work. \n",
    "\n",
    "Would it make sense to offer a different type of subscription for the latter group?\n",
    "\n",
    "From the analysis below, we can see that only 20% of the latter group are subscribers -- compared to 96% in the first group. However, the latter group is a very small portion of the data."
   ]
  },
  {
   "cell_type": "code",
   "execution_count": 20,
   "metadata": {},
   "outputs": [],
   "source": [
    "%%bigquery commuters_over360\n",
    "SELECT *,\n",
    "        CASE \n",
    "           WHEN start_station_id = 30 THEN 'Evelyn Park and Ride' \n",
    "           WHEN start_station_id = 26 THEN 'Redwood City Medical Center'\n",
    "           WHEN start_station_id = 21 THEN 'Sequoia Hospital'\n",
    "           WHEN start_station_id = 33 THEN 'Rengstorff Avenue / California Street'\n",
    "           WHEN start_station_id = 25 THEN 'Broadway at Main'\n",
    "           WHEN start_station_id = 80 THEN 'San Jose Government Center'\n",
    "           WHEN start_station_id = 47 THEN 'Post at Kearny'\n",
    "           WHEN start_station_id = 46 THEN 'Washington at Kearny'\n",
    "           WHEN start_station_id = 83 THEN 'Mezes Park'\n",
    "           WHEN start_station_id = 88 THEN '5th St at E. San Salvador St'\n",
    "           ELSE start_station_name\n",
    "           END AS start_station_name_correct,\n",
    "        CASE WHEN end_station_id = 30 THEN 'Evelyn Park and Ride' \n",
    "           WHEN end_station_id = 26 THEN 'Redwood City Medical Center'\n",
    "           WHEN end_station_id = 21 THEN 'Sequoia Hospital'\n",
    "           WHEN end_station_id = 33 THEN 'Rengstorff Avenue / California Street'\n",
    "           WHEN end_station_id = 25 THEN 'Broadway at Main'\n",
    "           WHEN end_station_id = 80 THEN 'San Jose Government Center'\n",
    "           WHEN end_station_id = 47 THEN 'Post at Kearny'\n",
    "           WHEN end_station_id = 46 THEN 'Washington at Kearny'\n",
    "           WHEN end_station_id = 83 THEN 'Mezes Park'\n",
    "           WHEN end_station_id = 88 THEN '5th St at E. San Salvador St'\n",
    "           ELSE end_station_name\n",
    "           END AS end_station_name_correct,      \n",
    "\n",
    "FROM `bigquery-public-data.san_francisco.bikeshare_trips`\n",
    "WHERE EXTRACT(DAYOFWEEK FROM start_date) IN (2, 3, 4, 5, 6) AND ((EXTRACT(HOUR FROM start_date) >= 7 AND EXTRACT(HOUR FROM start_date) <= 9) OR (EXTRACT(HOUR FROM start_date) >= 16 AND EXTRACT(HOUR FROM start_date) <= 18)) AND duration_sec > 21600 AND duration_sec < 36000 AND start_station_id = end_station_id\n"
   ]
  },
  {
   "cell_type": "code",
   "execution_count": 21,
   "metadata": {},
   "outputs": [
    {
     "data": {
      "text/html": [
       "<div>\n",
       "<style scoped>\n",
       "    .dataframe tbody tr th:only-of-type {\n",
       "        vertical-align: middle;\n",
       "    }\n",
       "\n",
       "    .dataframe tbody tr th {\n",
       "        vertical-align: top;\n",
       "    }\n",
       "\n",
       "    .dataframe thead th {\n",
       "        text-align: right;\n",
       "    }\n",
       "</style>\n",
       "<table border=\"1\" class=\"dataframe\">\n",
       "  <thead>\n",
       "    <tr style=\"text-align: right;\">\n",
       "      <th></th>\n",
       "      <th>start_date</th>\n",
       "      <th>end_date</th>\n",
       "      <th>subscriber_type</th>\n",
       "      <th>start_station_name_correct</th>\n",
       "      <th>end_station_name_correct</th>\n",
       "    </tr>\n",
       "  </thead>\n",
       "  <tbody>\n",
       "    <tr>\n",
       "      <th>0</th>\n",
       "      <td>2014-04-10 16:34:00+00:00</td>\n",
       "      <td>2014-04-10 22:46:00+00:00</td>\n",
       "      <td>Customer</td>\n",
       "      <td>MLK Library</td>\n",
       "      <td>MLK Library</td>\n",
       "    </tr>\n",
       "    <tr>\n",
       "      <th>1</th>\n",
       "      <td>2013-09-27 09:45:00+00:00</td>\n",
       "      <td>2013-09-27 16:44:00+00:00</td>\n",
       "      <td>Customer</td>\n",
       "      <td>5th at Howard</td>\n",
       "      <td>5th at Howard</td>\n",
       "    </tr>\n",
       "    <tr>\n",
       "      <th>2</th>\n",
       "      <td>2013-12-26 08:31:00+00:00</td>\n",
       "      <td>2013-12-26 17:04:00+00:00</td>\n",
       "      <td>Customer</td>\n",
       "      <td>5th at Howard</td>\n",
       "      <td>5th at Howard</td>\n",
       "    </tr>\n",
       "    <tr>\n",
       "      <th>3</th>\n",
       "      <td>2014-05-28 09:42:00+00:00</td>\n",
       "      <td>2014-05-28 17:29:00+00:00</td>\n",
       "      <td>Customer</td>\n",
       "      <td>5th at Howard</td>\n",
       "      <td>5th at Howard</td>\n",
       "    </tr>\n",
       "    <tr>\n",
       "      <th>4</th>\n",
       "      <td>2013-12-26 08:31:00+00:00</td>\n",
       "      <td>2013-12-26 16:33:00+00:00</td>\n",
       "      <td>Customer</td>\n",
       "      <td>5th at Howard</td>\n",
       "      <td>5th at Howard</td>\n",
       "    </tr>\n",
       "  </tbody>\n",
       "</table>\n",
       "</div>"
      ],
      "text/plain": [
       "                 start_date                  end_date subscriber_type  \\\n",
       "0 2014-04-10 16:34:00+00:00 2014-04-10 22:46:00+00:00        Customer   \n",
       "1 2013-09-27 09:45:00+00:00 2013-09-27 16:44:00+00:00        Customer   \n",
       "2 2013-12-26 08:31:00+00:00 2013-12-26 17:04:00+00:00        Customer   \n",
       "3 2014-05-28 09:42:00+00:00 2014-05-28 17:29:00+00:00        Customer   \n",
       "4 2013-12-26 08:31:00+00:00 2013-12-26 16:33:00+00:00        Customer   \n",
       "\n",
       "  start_station_name_correct end_station_name_correct  \n",
       "0                MLK Library              MLK Library  \n",
       "1              5th at Howard            5th at Howard  \n",
       "2              5th at Howard            5th at Howard  \n",
       "3              5th at Howard            5th at Howard  \n",
       "4              5th at Howard            5th at Howard  "
      ]
     },
     "execution_count": 21,
     "metadata": {},
     "output_type": "execute_result"
    }
   ],
   "source": [
    "commuters_over360.filter([\"start_date\", \"end_date\", \"subscriber_type\", \"start_station_name_correct\", \"end_station_name_correct\"]).head()\n"
   ]
  },
  {
   "cell_type": "markdown",
   "metadata": {},
   "source": [
    "There are 116 trips that are over 6 hours (360min) long taken by commuters (who rent and return the bike to the same station and travel during rush hour) -- this is clearly a minority of our rides:"
   ]
  },
  {
   "cell_type": "code",
   "execution_count": 22,
   "metadata": {},
   "outputs": [
    {
     "data": {
      "text/plain": [
       "(116, 13)"
      ]
     },
     "execution_count": 22,
     "metadata": {},
     "output_type": "execute_result"
    }
   ],
   "source": [
    "commuters_over360.shape"
   ]
  },
  {
   "cell_type": "markdown",
   "metadata": {},
   "source": [
    "Number of commuter trips 6-10 hours (360-600min) long taken by subscribers:"
   ]
  },
  {
   "cell_type": "code",
   "execution_count": 23,
   "metadata": {},
   "outputs": [
    {
     "data": {
      "text/html": [
       "<div>\n",
       "<style scoped>\n",
       "    .dataframe tbody tr th:only-of-type {\n",
       "        vertical-align: middle;\n",
       "    }\n",
       "\n",
       "    .dataframe tbody tr th {\n",
       "        vertical-align: top;\n",
       "    }\n",
       "\n",
       "    .dataframe thead th {\n",
       "        text-align: right;\n",
       "    }\n",
       "</style>\n",
       "<table border=\"1\" class=\"dataframe\">\n",
       "  <thead>\n",
       "    <tr style=\"text-align: right;\">\n",
       "      <th></th>\n",
       "      <th>f0_</th>\n",
       "    </tr>\n",
       "  </thead>\n",
       "  <tbody>\n",
       "    <tr>\n",
       "      <th>0</th>\n",
       "      <td>23</td>\n",
       "    </tr>\n",
       "  </tbody>\n",
       "</table>\n",
       "</div>"
      ],
      "text/plain": [
       "   f0_\n",
       "0   23"
      ]
     },
     "execution_count": 23,
     "metadata": {},
     "output_type": "execute_result"
    }
   ],
   "source": [
    "%%bigquery \n",
    "SELECT COUNT(*),  \n",
    "\n",
    "FROM `bigquery-public-data.san_francisco.bikeshare_trips`\n",
    "WHERE subscriber_type = \"Subscriber\" AND EXTRACT(DAYOFWEEK FROM start_date) IN (2, 3, 4, 5, 6) AND ((EXTRACT(HOUR FROM start_date) >= 7 AND EXTRACT(HOUR FROM start_date) <= 9) OR (EXTRACT(HOUR FROM start_date) >= 16 AND EXTRACT(HOUR FROM start_date) <= 18)) AND duration_sec > 21600 AND duration_sec < 36000 AND start_station_id = end_station_id\n"
   ]
  },
  {
   "cell_type": "markdown",
   "metadata": {},
   "source": [
    "Proportion of commuter trips 6-10 hours (360-600min) long taken by subscribers = 0.20 = 20% "
   ]
  },
  {
   "cell_type": "code",
   "execution_count": 24,
   "metadata": {},
   "outputs": [
    {
     "data": {
      "text/plain": [
       "0.19827586206896552"
      ]
     },
     "execution_count": 24,
     "metadata": {},
     "output_type": "execute_result"
    }
   ],
   "source": [
    "23/116"
   ]
  },
  {
   "cell_type": "markdown",
   "metadata": {},
   "source": [
    "##### What are the popular stations for the latter group (commuters with trips over 6 hours)? How long are their rides? "
   ]
  },
  {
   "cell_type": "code",
   "execution_count": 25,
   "metadata": {},
   "outputs": [],
   "source": [
    "%%bigquery top_5_commuter_over360_trips\n",
    "SELECT start_station_id, start_station_name,\n",
    "        CASE \n",
    "           WHEN start_station_id = 30 THEN 'Evelyn Park and Ride' \n",
    "           WHEN start_station_id = 26 THEN 'Redwood City Medical Center'\n",
    "           WHEN start_station_id = 21 THEN 'Sequoia Hospital'\n",
    "           WHEN start_station_id = 33 THEN 'Rengstorff Avenue / California Street'\n",
    "           WHEN start_station_id = 25 THEN 'Broadway at Main'\n",
    "           WHEN start_station_id = 80 THEN 'San Jose Government Center'\n",
    "           WHEN start_station_id = 47 THEN 'Post at Kearny'\n",
    "           WHEN start_station_id = 46 THEN 'Washington at Kearny'\n",
    "           WHEN start_station_id = 83 THEN 'Mezes Park'\n",
    "           WHEN start_station_id = 88 THEN '5th St at E. San Salvador St'\n",
    "           ELSE start_station_name\n",
    "           END AS start_station_name_correct,\n",
    "COUNT(*) as trip_freq \n",
    "\n",
    "FROM `bigquery-public-data.san_francisco.bikeshare_trips` \n",
    "WHERE EXTRACT(DAYOFWEEK FROM start_date) IN (2, 3, 4, 5, 6) AND ((EXTRACT(HOUR FROM start_date) >= 7 AND EXTRACT(HOUR FROM start_date) <= 9) OR (EXTRACT(HOUR FROM start_date) >= 16 AND EXTRACT(HOUR FROM start_date) <= 18)) AND duration_sec > 21600 AND duration_sec < 36000 AND start_station_id = end_station_id\n",
    "GROUP BY start_station_id, start_station_name\n",
    "ORDER BY trip_freq DESC \n",
    "LIMIT 5"
   ]
  },
  {
   "cell_type": "markdown",
   "metadata": {},
   "source": [
    "A lot of these trips are near other modes of transport (Caltrain, ferry, and bus stations) suggesting that a commuter might come in from another city, take the bike to their office, then return it before returning home via train/ferry/bus.  "
   ]
  },
  {
   "cell_type": "code",
   "execution_count": 26,
   "metadata": {},
   "outputs": [
    {
     "data": {
      "text/html": [
       "<div>\n",
       "<style scoped>\n",
       "    .dataframe tbody tr th:only-of-type {\n",
       "        vertical-align: middle;\n",
       "    }\n",
       "\n",
       "    .dataframe tbody tr th {\n",
       "        vertical-align: top;\n",
       "    }\n",
       "\n",
       "    .dataframe thead th {\n",
       "        text-align: right;\n",
       "    }\n",
       "</style>\n",
       "<table border=\"1\" class=\"dataframe\">\n",
       "  <thead>\n",
       "    <tr style=\"text-align: right;\">\n",
       "      <th></th>\n",
       "      <th>start_station_id</th>\n",
       "      <th>start_station_name</th>\n",
       "      <th>start_station_name_correct</th>\n",
       "      <th>trip_freq</th>\n",
       "    </tr>\n",
       "  </thead>\n",
       "  <tbody>\n",
       "    <tr>\n",
       "      <th>0</th>\n",
       "      <td>50</td>\n",
       "      <td>Harry Bridges Plaza (Ferry Building)</td>\n",
       "      <td>Harry Bridges Plaza (Ferry Building)</td>\n",
       "      <td>9</td>\n",
       "    </tr>\n",
       "    <tr>\n",
       "      <th>1</th>\n",
       "      <td>28</td>\n",
       "      <td>Mountain View Caltrain Station</td>\n",
       "      <td>Mountain View Caltrain Station</td>\n",
       "      <td>9</td>\n",
       "    </tr>\n",
       "    <tr>\n",
       "      <th>2</th>\n",
       "      <td>74</td>\n",
       "      <td>Steuart at Market</td>\n",
       "      <td>Steuart at Market</td>\n",
       "      <td>8</td>\n",
       "    </tr>\n",
       "    <tr>\n",
       "      <th>3</th>\n",
       "      <td>71</td>\n",
       "      <td>Powell at Post (Union Square)</td>\n",
       "      <td>Powell at Post (Union Square)</td>\n",
       "      <td>7</td>\n",
       "    </tr>\n",
       "    <tr>\n",
       "      <th>4</th>\n",
       "      <td>57</td>\n",
       "      <td>5th at Howard</td>\n",
       "      <td>5th at Howard</td>\n",
       "      <td>7</td>\n",
       "    </tr>\n",
       "  </tbody>\n",
       "</table>\n",
       "</div>"
      ],
      "text/plain": [
       "   start_station_id                    start_station_name  \\\n",
       "0                50  Harry Bridges Plaza (Ferry Building)   \n",
       "1                28        Mountain View Caltrain Station   \n",
       "2                74                     Steuart at Market   \n",
       "3                71         Powell at Post (Union Square)   \n",
       "4                57                         5th at Howard   \n",
       "\n",
       "             start_station_name_correct  trip_freq  \n",
       "0  Harry Bridges Plaza (Ferry Building)          9  \n",
       "1        Mountain View Caltrain Station          9  \n",
       "2                     Steuart at Market          8  \n",
       "3         Powell at Post (Union Square)          7  \n",
       "4                         5th at Howard          7  "
      ]
     },
     "execution_count": 26,
     "metadata": {},
     "output_type": "execute_result"
    }
   ],
   "source": [
    "top_5_commuter_over360_trips"
   ]
  },
  {
   "cell_type": "markdown",
   "metadata": {},
   "source": [
    "3 of the top 5 start times are in the morning (2 are in the evening)."
   ]
  },
  {
   "cell_type": "code",
   "execution_count": 27,
   "metadata": {},
   "outputs": [],
   "source": [
    "%%bigquery top_5_commuter_over360_hours\n",
    "SELECT EXTRACT(HOUR FROM start_date),\n",
    "COUNT(*) as trip_freq \n",
    "\n",
    "FROM `bigquery-public-data.san_francisco.bikeshare_trips` \n",
    "WHERE EXTRACT(DAYOFWEEK FROM start_date) IN (2, 3, 4, 5, 6) AND ((EXTRACT(HOUR FROM start_date) >= 7 AND EXTRACT(HOUR FROM start_date) <= 9) OR (EXTRACT(HOUR FROM start_date) >= 16 AND EXTRACT(HOUR FROM start_date) <= 18)) AND duration_sec > 21600 AND duration_sec < 36000 AND start_station_id = end_station_id\n",
    "GROUP BY EXTRACT(HOUR FROM start_date)\n",
    "ORDER BY trip_freq DESC \n",
    "LIMIT 5"
   ]
  },
  {
   "cell_type": "code",
   "execution_count": 28,
   "metadata": {},
   "outputs": [
    {
     "data": {
      "text/html": [
       "<div>\n",
       "<style scoped>\n",
       "    .dataframe tbody tr th:only-of-type {\n",
       "        vertical-align: middle;\n",
       "    }\n",
       "\n",
       "    .dataframe tbody tr th {\n",
       "        vertical-align: top;\n",
       "    }\n",
       "\n",
       "    .dataframe thead th {\n",
       "        text-align: right;\n",
       "    }\n",
       "</style>\n",
       "<table border=\"1\" class=\"dataframe\">\n",
       "  <thead>\n",
       "    <tr style=\"text-align: right;\">\n",
       "      <th></th>\n",
       "      <th>f0_</th>\n",
       "      <th>trip_freq</th>\n",
       "    </tr>\n",
       "  </thead>\n",
       "  <tbody>\n",
       "    <tr>\n",
       "      <th>0</th>\n",
       "      <td>9</td>\n",
       "      <td>57</td>\n",
       "    </tr>\n",
       "    <tr>\n",
       "      <th>1</th>\n",
       "      <td>8</td>\n",
       "      <td>33</td>\n",
       "    </tr>\n",
       "    <tr>\n",
       "      <th>2</th>\n",
       "      <td>7</td>\n",
       "      <td>13</td>\n",
       "    </tr>\n",
       "    <tr>\n",
       "      <th>3</th>\n",
       "      <td>16</td>\n",
       "      <td>5</td>\n",
       "    </tr>\n",
       "    <tr>\n",
       "      <th>4</th>\n",
       "      <td>17</td>\n",
       "      <td>5</td>\n",
       "    </tr>\n",
       "  </tbody>\n",
       "</table>\n",
       "</div>"
      ],
      "text/plain": [
       "   f0_  trip_freq\n",
       "0    9         57\n",
       "1    8         33\n",
       "2    7         13\n",
       "3   16          5\n",
       "4   17          5"
      ]
     },
     "execution_count": 28,
     "metadata": {},
     "output_type": "execute_result"
    }
   ],
   "source": [
    "top_5_commuter_over360_hours"
   ]
  },
  {
   "cell_type": "markdown",
   "metadata": {},
   "source": [
    "A lot of these trips are in a range that would be reasonable to expect if someone rented in the morning then returned the bike at night when done with work."
   ]
  },
  {
   "cell_type": "code",
   "execution_count": 29,
   "metadata": {},
   "outputs": [],
   "source": [
    "# Pull out duration and convert to hours\n",
    "commuters_over360_duration_hr = commuters_over360[\"duration_sec\"]/60/60\n"
   ]
  },
  {
   "cell_type": "code",
   "execution_count": 30,
   "metadata": {},
   "outputs": [
    {
     "name": "stderr",
     "output_type": "stream",
     "text": [
      "/usr/local/lib/python3.5/site-packages/scipy/stats/stats.py:1713: FutureWarning: Using a non-tuple sequence for multidimensional indexing is deprecated; use `arr[tuple(seq)]` instead of `arr[seq]`. In the future this will be interpreted as an array index, `arr[np.array(seq)]`, which will result either in an error or a different result.\n",
      "  return np.add.reduce(sorted[indexer] * weights, axis=axis) / sumval\n"
     ]
    },
    {
     "data": {
      "image/png": "[encoded data removed]",
      "text/plain": [
       "<Figure size 432x288 with 1 Axes>"
      ]
     },
     "metadata": {
      "needs_background": "light"
     },
     "output_type": "display_data"
    }
   ],
   "source": [
    "# Plot durations\n",
    "ax = sns.distplot(commuters_over360_duration_hr)\n",
    "ax.set(xlabel='Ride Duration (hours)', title = \"Histogram of Ride Durations for Longer Commuter Trips\");\n"
   ]
  },
  {
   "cell_type": "code",
   "execution_count": 31,
   "metadata": {},
   "outputs": [
    {
     "data": {
      "image/png": "[encoded data removed]",
      "text/plain": [
       "<Figure size 432x288 with 1 Axes>"
      ]
     },
     "metadata": {
      "needs_background": "light"
     },
     "output_type": "display_data"
    }
   ],
   "source": [
    "ax = sns.boxplot(commuters_over360_duration_hr)\n",
    "ax.set(xlabel='Ride Duration (hours)', title = \"Boxplot of Ride Durations for Longer Commuter Trips\");\n"
   ]
  },
  {
   "cell_type": "markdown",
   "metadata": {},
   "source": [
    "**Descriptive Stats:**"
   ]
  },
  {
   "cell_type": "code",
   "execution_count": 32,
   "metadata": {},
   "outputs": [
    {
     "data": {
      "text/plain": [
       "count    116.000000\n",
       "mean       7.562471\n",
       "std        1.068987\n",
       "min        6.030833\n",
       "25%        6.587292\n",
       "50%        7.431944\n",
       "75%        8.547153\n",
       "max        9.985000\n",
       "Name: duration_sec, dtype: float64"
      ]
     },
     "execution_count": 32,
     "metadata": {},
     "output_type": "execute_result"
    }
   ],
   "source": [
    "commuters_over360_duration_hr.describe()"
   ]
  },
  {
   "cell_type": "markdown",
   "metadata": {},
   "source": [
    "### Recommendation for Longer Commuter Subscription\n",
    "\n",
    "Currently, a customer without a subscription would pay \\\\$2 for a ride up to 30min and \\\\$3 per 15min after that. As I defined them, these trips are between 6-10 hours long. This would mean that most customers are paying \\\\$80 - \\\\$174 per ride if they are not subscribers. With the existing subscription, they would save some money (depending on how many trips they take per month) but it would still be quite expensive. \n",
    "\n",
    "One can imagine that a customer could want to limit the number of their transactions when commuting -- if you already have to get to the train/bus/ferry, then switch to the bike, you might not want to spend that extra time docking the bike. It might be very attractive to just be able to keep the bike all day without having to find and use another docking station. \n",
    "\n",
    "Not many customers are using the bikes in this way, but it's possible that we could attract new customers by offering a new subscription type where people could take unlimited rides up to 10 hours for \\\\$300 per month (with \\\\$3 additional for every 15min over the 10 hour limit). This might be attractive to commuters who don't want to have to deal with the hassle of upkeep for the bike, or transporting it to SF from where they live via ferry/bus/train. \n",
    "\n",
    "However, it is possible that this offer does not fit the Lyft bike model of shorter one-way rides. It would have to be seen whether renting out bikes in this way would allow for Lyft bikes to maintain enough bikes in a given station. Perhaps one potential solution would be to have a fleet of two-stage commute bikes designed for people who have to transfer from train/bus/ferry to bike to get to work. The customers who use the subscription for up to 10 hour rides could be limited to using these bikes so that the other one-way customers would still have bikes available. \n",
    "\n",
    "Below, I am using the bikeshare_stations dataset to look at information about these 5 popular bike stations. We can see that the number of bikes at each station ranges from 15-23 -- this is a limited number of bikes for an area as populated as the Bay Area, so if Lyft did want to create this new type of offer they would need to find a way to provide more bikes at each dock. \n",
    "\n",
    "In conclusion, I would recommend that Lyft only take on this new market opportunity if they wanted to expand beyond shorter one-way rides. Additional infrastructure would need to be in place to support this change. \n"
   ]
  },
  {
   "cell_type": "code",
   "execution_count": 34,
   "metadata": {},
   "outputs": [],
   "source": [
    "%%bigquery bikeshare_stations\n",
    "SELECT *,\n",
    "FROM `bigquery-public-data.san_francisco.bikeshare_stations`"
   ]
  },
  {
   "cell_type": "code",
   "execution_count": 35,
   "metadata": {},
   "outputs": [],
   "source": [
    "# pull out station IDs\n",
    "station_id = top_5_commuter_over360_trips[\"start_station_id\"]"
   ]
  },
  {
   "cell_type": "code",
   "execution_count": 36,
   "metadata": {},
   "outputs": [
    {
     "data": {
      "text/plain": [
       "0    50\n",
       "1    28\n",
       "2    74\n",
       "3    71\n",
       "4    57\n",
       "Name: start_station_id, dtype: int64"
      ]
     },
     "execution_count": 36,
     "metadata": {},
     "output_type": "execute_result"
    }
   ],
   "source": [
    "station_id"
   ]
  },
  {
   "cell_type": "code",
   "execution_count": 37,
   "metadata": {},
   "outputs": [
    {
     "name": "stdout",
     "output_type": "stream",
     "text": [
      "61    23\n",
      "Name: dockcount, dtype: int64\n",
      "60    23\n",
      "Name: dockcount, dtype: int64\n",
      "66    23\n",
      "Name: dockcount, dtype: int64\n",
      "54    19\n",
      "Name: dockcount, dtype: int64\n",
      "28    15\n",
      "Name: dockcount, dtype: int64\n"
     ]
    }
   ],
   "source": [
    "for i in range(0, len(station_id)):\n",
    "    print(bikeshare_stations[\"dockcount\"][bikeshare_stations[\"station_id\"] == station_id[i]])"
   ]
  },
  {
   "cell_type": "markdown",
   "metadata": {},
   "source": [
    "### Are there patterns by day of week and hour of day?\n",
    "\n",
    "Let's look at overall patterns by day of week and hour of day. Since this analysis is exploratory, I will use some light cleaning to filter out:\n",
    "\n",
    "* Rides over 24 hours long -- according to the Lyft bike website, this would incur a \\\\$1200 fine. I assume that rides over that amount are a mistake on the part of the rider (or an error in the data) and not a desirable ride for either party. \n",
    "* Rides under 5min long with the same start and end station -- this probably reflects someone who made a mistake in taking out the bike, or changed their mind immediately (or an error in the data). Again, this does not seem to be a desirable trip for either party. "
   ]
  },
  {
   "cell_type": "code",
   "execution_count": 38,
   "metadata": {},
   "outputs": [],
   "source": [
    "%%bigquery week_day_patterns\n",
    "SELECT *, \n",
    "       CASE \n",
    "           WHEN (EXTRACT(HOUR FROM start_date) >= 7 AND EXTRACT(HOUR FROM start_date) <= 9) OR (EXTRACT(HOUR FROM start_date) >= 16 AND EXTRACT(HOUR FROM start_date) <= 18) THEN \"Rush\"\n",
    "           ELSE \"Not Rush\"\n",
    "           END AS rush_hour,\n",
    "        CASE \n",
    "           WHEN start_station_id = 30 THEN 'Evelyn Park and Ride' \n",
    "           WHEN start_station_id = 26 THEN 'Redwood City Medical Center'\n",
    "           WHEN start_station_id = 21 THEN 'Sequoia Hospital'\n",
    "           WHEN start_station_id = 33 THEN 'Rengstorff Avenue / California Street'\n",
    "           WHEN start_station_id = 25 THEN 'Broadway at Main'\n",
    "           WHEN start_station_id = 80 THEN 'San Jose Government Center'\n",
    "           WHEN start_station_id = 47 THEN 'Post at Kearny'\n",
    "           WHEN start_station_id = 46 THEN 'Washington at Kearny'\n",
    "           WHEN start_station_id = 83 THEN 'Mezes Park'\n",
    "           WHEN start_station_id = 88 THEN '5th St at E. San Salvador St'\n",
    "           ELSE start_station_name\n",
    "           END AS start_station_name_correct,\n",
    "        CASE WHEN end_station_id = 30 THEN 'Evelyn Park and Ride' \n",
    "           WHEN end_station_id = 26 THEN 'Redwood City Medical Center'\n",
    "           WHEN end_station_id = 21 THEN 'Sequoia Hospital'\n",
    "           WHEN end_station_id = 33 THEN 'Rengstorff Avenue / California Street'\n",
    "           WHEN end_station_id = 25 THEN 'Broadway at Main'\n",
    "           WHEN end_station_id = 80 THEN 'San Jose Government Center'\n",
    "           WHEN end_station_id = 47 THEN 'Post at Kearny'\n",
    "           WHEN end_station_id = 46 THEN 'Washington at Kearny'\n",
    "           WHEN end_station_id = 83 THEN 'Mezes Park'\n",
    "           WHEN end_station_id = 88 THEN '5th St at E. San Salvador St'\n",
    "           ELSE end_station_name\n",
    "           END AS end_station_name_correct,\n",
    "       EXTRACT(DAYOFWEEK FROM start_date) AS dow_int,\n",
    "       CASE EXTRACT(DAYOFWEEK FROM start_date)\n",
    "           WHEN 1 THEN \"Sunday\"\n",
    "           WHEN 2 THEN \"Monday\"\n",
    "           WHEN 3 THEN \"Tuesday\"\n",
    "           WHEN 4 THEN \"Wednesday\"\n",
    "           WHEN 5 THEN \"Thursday\"\n",
    "           WHEN 6 THEN \"Friday\"\n",
    "           WHEN 7 THEN \"Saturday\"\n",
    "           END AS dow_str,\n",
    "       CASE \n",
    "           WHEN EXTRACT(DAYOFWEEK FROM start_date) IN (1, 7) THEN \"Weekend\"\n",
    "           ELSE \"Weekday\"\n",
    "           END AS dow_weekday,\n",
    "       EXTRACT(HOUR FROM start_date) AS start_hour,\n",
    "       EXTRACT(YEAR FROM start_date) AS start_year,\n",
    "       CASE \n",
    "           WHEN EXTRACT(HOUR FROM start_date) <= 5  OR EXTRACT(HOUR FROM start_date) >= 23 THEN \"Nightime\"\n",
    "           WHEN EXTRACT(HOUR FROM start_date) >= 6 and EXTRACT(HOUR FROM start_date) <= 8 THEN \"Morning\"\n",
    "           WHEN EXTRACT(HOUR FROM start_date) >= 9 and EXTRACT(HOUR FROM start_date) <= 10 THEN \"Mid Morning\"\n",
    "           WHEN EXTRACT(HOUR FROM start_date) >= 11 and EXTRACT(HOUR FROM start_date) <= 13 THEN \"Mid Day\"\n",
    "           WHEN EXTRACT(HOUR FROM start_date) >= 14 and EXTRACT(HOUR FROM start_date) <= 16 THEN \"Early Afternoon\"\n",
    "           WHEN EXTRACT(HOUR FROM start_date) >= 17 and EXTRACT(HOUR FROM start_date) <= 19 THEN \"Afternoon\"\n",
    "           WHEN EXTRACT(HOUR FROM start_date) >= 20 and EXTRACT(HOUR FROM start_date) <= 22 THEN \"Evening\"\n",
    "           END AS start_hour_str  \n",
    "\n",
    "FROM `bigquery-public-data.san_francisco.bikeshare_trips`\n",
    "WHERE duration_sec < 86400 AND NOT (duration_sec < 300 AND start_station_id = end_station_id)\n",
    "ORDER BY duration_sec DESC \n"
   ]
  },
  {
   "cell_type": "markdown",
   "metadata": {},
   "source": [
    "5 longest rides:"
   ]
  },
  {
   "cell_type": "code",
   "execution_count": null,
   "metadata": {},
   "outputs": [
    {
     "data": {
      "text/html": [
       "<div>\n",
       "<style scoped>\n",
       "    .dataframe tbody tr th:only-of-type {\n",
       "        vertical-align: middle;\n",
       "    }\n",
       "\n",
       "    .dataframe tbody tr th {\n",
       "        vertical-align: top;\n",
       "    }\n",
       "\n",
       "    .dataframe thead th {\n",
       "        text-align: right;\n",
       "    }\n",
       "</style>\n",
       "<table border=\"1\" class=\"dataframe\">\n",
       "  <thead>\n",
       "    <tr style=\"text-align: right;\">\n",
       "      <th></th>\n",
       "      <th>duration_sec</th>\n",
       "      <th>start_station_name_correct</th>\n",
       "      <th>end_station_name_correct</th>\n",
       "      <th>dow_str</th>\n",
       "      <th>dow_weekday</th>\n",
       "      <th>start_hour_str</th>\n",
       "    </tr>\n",
       "  </thead>\n",
       "  <tbody>\n",
       "    <tr>\n",
       "      <th>0</th>\n",
       "      <td>86381</td>\n",
       "      <td>San Antonio Caltrain Station</td>\n",
       "      <td>San Antonio Shopping Center</td>\n",
       "      <td>Monday</td>\n",
       "      <td>Weekday</td>\n",
       "      <td>Afternoon</td>\n",
       "    </tr>\n",
       "    <tr>\n",
       "      <th>1</th>\n",
       "      <td>86363</td>\n",
       "      <td>Evelyn Park and Ride</td>\n",
       "      <td>Evelyn Park and Ride</td>\n",
       "      <td>Saturday</td>\n",
       "      <td>Weekend</td>\n",
       "      <td>Early Afternoon</td>\n",
       "    </tr>\n",
       "    <tr>\n",
       "      <th>2</th>\n",
       "      <td>86345</td>\n",
       "      <td>Harry Bridges Plaza (Ferry Building)</td>\n",
       "      <td>Market at 4th</td>\n",
       "      <td>Tuesday</td>\n",
       "      <td>Weekday</td>\n",
       "      <td>Afternoon</td>\n",
       "    </tr>\n",
       "    <tr>\n",
       "      <th>3</th>\n",
       "      <td>86325</td>\n",
       "      <td>2nd at Townsend</td>\n",
       "      <td>Washington at Kearny</td>\n",
       "      <td>Saturday</td>\n",
       "      <td>Weekend</td>\n",
       "      <td>Early Afternoon</td>\n",
       "    </tr>\n",
       "    <tr>\n",
       "      <th>4</th>\n",
       "      <td>86228</td>\n",
       "      <td>Howard at 2nd</td>\n",
       "      <td>Howard at 2nd</td>\n",
       "      <td>Wednesday</td>\n",
       "      <td>Weekday</td>\n",
       "      <td>Mid Morning</td>\n",
       "    </tr>\n",
       "  </tbody>\n",
       "</table>\n",
       "</div>"
      ],
      "text/plain": [
       "   duration_sec            start_station_name_correct  \\\n",
       "0         86381          San Antonio Caltrain Station   \n",
       "1         86363                  Evelyn Park and Ride   \n",
       "2         86345  Harry Bridges Plaza (Ferry Building)   \n",
       "3         86325                       2nd at Townsend   \n",
       "4         86228                         Howard at 2nd   \n",
       "\n",
       "      end_station_name_correct    dow_str dow_weekday   start_hour_str  \n",
       "0  San Antonio Shopping Center     Monday     Weekday        Afternoon  \n",
       "1         Evelyn Park and Ride   Saturday     Weekend  Early Afternoon  \n",
       "2                Market at 4th    Tuesday     Weekday        Afternoon  \n",
       "3         Washington at Kearny   Saturday     Weekend  Early Afternoon  \n",
       "4                Howard at 2nd  Wednesday     Weekday      Mid Morning  "
      ]
     },
     "execution_count": 39,
     "metadata": {},
     "output_type": "execute_result"
    }
   ],
   "source": [
    "week_day_patterns.filter([\"duration_sec\", \"start_station_name_correct\", \"end_station_name_correct\", \"dow_str\", \"dow_weekday\", \"start_hour_str\"]).head()\n"
   ]
  },
  {
   "cell_type": "markdown",
   "metadata": {},
   "source": [
    "5 shortest rides:"
   ]
  },
  {
   "cell_type": "code",
   "execution_count": null,
   "metadata": {},
   "outputs": [
    {
     "data": {
      "text/html": [
       "<div>\n",
       "<style scoped>\n",
       "    .dataframe tbody tr th:only-of-type {\n",
       "        vertical-align: middle;\n",
       "    }\n",
       "\n",
       "    .dataframe tbody tr th {\n",
       "        vertical-align: top;\n",
       "    }\n",
       "\n",
       "    .dataframe thead th {\n",
       "        text-align: right;\n",
       "    }\n",
       "</style>\n",
       "<table border=\"1\" class=\"dataframe\">\n",
       "  <thead>\n",
       "    <tr style=\"text-align: right;\">\n",
       "      <th></th>\n",
       "      <th>duration_sec</th>\n",
       "      <th>start_station_name_correct</th>\n",
       "      <th>end_station_name_correct</th>\n",
       "      <th>dow_str</th>\n",
       "      <th>dow_weekday</th>\n",
       "      <th>start_hour_str</th>\n",
       "    </tr>\n",
       "  </thead>\n",
       "  <tbody>\n",
       "    <tr>\n",
       "      <th>979020</th>\n",
       "      <td>60</td>\n",
       "      <td>South Van Ness at Market</td>\n",
       "      <td>Market at 10th</td>\n",
       "      <td>Tuesday</td>\n",
       "      <td>Weekday</td>\n",
       "      <td>Mid Day</td>\n",
       "    </tr>\n",
       "    <tr>\n",
       "      <th>979021</th>\n",
       "      <td>60</td>\n",
       "      <td>San Francisco Caltrain (Townsend at 4th)</td>\n",
       "      <td>San Francisco Caltrain 2 (330 Townsend)</td>\n",
       "      <td>Monday</td>\n",
       "      <td>Weekday</td>\n",
       "      <td>Morning</td>\n",
       "    </tr>\n",
       "    <tr>\n",
       "      <th>979022</th>\n",
       "      <td>60</td>\n",
       "      <td>San Francisco Caltrain (Townsend at 4th)</td>\n",
       "      <td>San Francisco Caltrain 2 (330 Townsend)</td>\n",
       "      <td>Tuesday</td>\n",
       "      <td>Weekday</td>\n",
       "      <td>Morning</td>\n",
       "    </tr>\n",
       "    <tr>\n",
       "      <th>979023</th>\n",
       "      <td>60</td>\n",
       "      <td>Post at Kearny</td>\n",
       "      <td>2nd at South Park</td>\n",
       "      <td>Tuesday</td>\n",
       "      <td>Weekday</td>\n",
       "      <td>Evening</td>\n",
       "    </tr>\n",
       "    <tr>\n",
       "      <th>979024</th>\n",
       "      <td>60</td>\n",
       "      <td>Howard at 2nd</td>\n",
       "      <td>2nd at South Park</td>\n",
       "      <td>Friday</td>\n",
       "      <td>Weekday</td>\n",
       "      <td>Morning</td>\n",
       "    </tr>\n",
       "  </tbody>\n",
       "</table>\n",
       "</div>"
      ],
      "text/plain": [
       "        duration_sec                start_station_name_correct  \\\n",
       "979020            60                  South Van Ness at Market   \n",
       "979021            60  San Francisco Caltrain (Townsend at 4th)   \n",
       "979022            60  San Francisco Caltrain (Townsend at 4th)   \n",
       "979023            60                            Post at Kearny   \n",
       "979024            60                             Howard at 2nd   \n",
       "\n",
       "                       end_station_name_correct  dow_str dow_weekday  \\\n",
       "979020                           Market at 10th  Tuesday     Weekday   \n",
       "979021  San Francisco Caltrain 2 (330 Townsend)   Monday     Weekday   \n",
       "979022  San Francisco Caltrain 2 (330 Townsend)  Tuesday     Weekday   \n",
       "979023                        2nd at South Park  Tuesday     Weekday   \n",
       "979024                        2nd at South Park   Friday     Weekday   \n",
       "\n",
       "       start_hour_str  \n",
       "979020        Mid Day  \n",
       "979021        Morning  \n",
       "979022        Morning  \n",
       "979023        Evening  \n",
       "979024        Morning  "
      ]
     },
     "execution_count": 40,
     "metadata": {},
     "output_type": "execute_result"
    }
   ],
   "source": [
    "week_day_patterns.filter([\"duration_sec\", \"start_station_name_correct\", \"end_station_name_correct\", \"dow_str\", \"dow_weekday\", \"start_hour_str\"]).tail()\n"
   ]
  },
  {
   "cell_type": "markdown",
   "metadata": {},
   "source": [
    "We can see that there are 868,684 trips taken on weekdays and 110,341 on the weekends. \n",
    "\n",
    "That is about 8 times the number of trips during the week -- but there are only 2.5 times more days that are counted as week days.\n",
    "\n",
    "Since the number of bikes at each station and their overall capacity don't change from weekday to weekend, if you assume the same approximate ride lengths and same patterns of usage across stations, Lyft would have the infrastructure to support many more weekend rides (see analysis below looking at this market opportunity). "
   ]
  },
  {
   "cell_type": "markdown",
   "metadata": {},
   "source": [
    "Number of weekday rides:"
   ]
  },
  {
   "cell_type": "code",
   "execution_count": 44,
   "metadata": {},
   "outputs": [
    {
     "data": {
      "text/plain": [
       "868684"
      ]
     },
     "execution_count": 44,
     "metadata": {},
     "output_type": "execute_result"
    }
   ],
   "source": [
    "len(week_day_patterns[week_day_patterns[\"dow_weekday\"] == \"Weekday\"])"
   ]
  },
  {
   "cell_type": "markdown",
   "metadata": {},
   "source": [
    "Number of weekend rides:"
   ]
  },
  {
   "cell_type": "code",
   "execution_count": 45,
   "metadata": {},
   "outputs": [
    {
     "data": {
      "text/plain": [
       "110341"
      ]
     },
     "execution_count": 45,
     "metadata": {},
     "output_type": "execute_result"
    }
   ],
   "source": [
    "len(week_day_patterns[week_day_patterns[\"dow_weekday\"] == \"Weekend\"])"
   ]
  },
  {
   "cell_type": "markdown",
   "metadata": {},
   "source": [
    "Comparing number of trips on weekdays to number on weekends:"
   ]
  },
  {
   "cell_type": "code",
   "execution_count": 42,
   "metadata": {},
   "outputs": [
    {
     "data": {
      "text/plain": [
       "7.872721835038653"
      ]
     },
     "execution_count": 42,
     "metadata": {},
     "output_type": "execute_result"
    }
   ],
   "source": [
    "868684/110341"
   ]
  },
  {
   "cell_type": "markdown",
   "metadata": {},
   "source": [
    "Comparing number of days on weekdays to number on weekends:"
   ]
  },
  {
   "cell_type": "code",
   "execution_count": 43,
   "metadata": {},
   "outputs": [
    {
     "data": {
      "text/plain": [
       "2.5"
      ]
     },
     "execution_count": 43,
     "metadata": {},
     "output_type": "execute_result"
    }
   ],
   "source": [
    "5/2"
   ]
  },
  {
   "cell_type": "markdown",
   "metadata": {},
   "source": [
    "### Is there a market opportunity with weekend riders?\n",
    "\n",
    "They are the minority of rides -- 110,341 of the rides in the cleaned dataset were taken on the weekend. Since they are on the weekend, most are probably pleasure rides rather than for work so we will take out very short trips (under 5min) which may be a mistake in the data (one would assume a leisurely ride for pleasure wouldn't be under 5min). I also took out rides over 24 hours long (due to the \\\\$1200 fine for trips over this duration as noted on the Lyft bike website)."
   ]
  },
  {
   "cell_type": "code",
   "execution_count": 48,
   "metadata": {},
   "outputs": [],
   "source": [
    "%%bigquery weekend_trips\n",
    "SELECT *, \n",
    "        CASE \n",
    "           WHEN start_station_id = 30 THEN 'Evelyn Park and Ride' \n",
    "           WHEN start_station_id = 26 THEN 'Redwood City Medical Center'\n",
    "           WHEN start_station_id = 21 THEN 'Sequoia Hospital'\n",
    "           WHEN start_station_id = 33 THEN 'Rengstorff Avenue / California Street'\n",
    "           WHEN start_station_id = 25 THEN 'Broadway at Main'\n",
    "           WHEN start_station_id = 80 THEN 'San Jose Government Center'\n",
    "           WHEN start_station_id = 47 THEN 'Post at Kearny'\n",
    "           WHEN start_station_id = 46 THEN 'Washington at Kearny'\n",
    "           WHEN start_station_id = 83 THEN 'Mezes Park'\n",
    "           WHEN start_station_id = 88 THEN '5th St at E. San Salvador St'\n",
    "           ELSE start_station_name\n",
    "           END AS start_station_name_correct,\n",
    "        CASE WHEN end_station_id = 30 THEN 'Evelyn Park and Ride' \n",
    "           WHEN end_station_id = 26 THEN 'Redwood City Medical Center'\n",
    "           WHEN end_station_id = 21 THEN 'Sequoia Hospital'\n",
    "           WHEN end_station_id = 33 THEN 'Rengstorff Avenue / California Street'\n",
    "           WHEN end_station_id = 25 THEN 'Broadway at Main'\n",
    "           WHEN end_station_id = 80 THEN 'San Jose Government Center'\n",
    "           WHEN end_station_id = 47 THEN 'Post at Kearny'\n",
    "           WHEN end_station_id = 46 THEN 'Washington at Kearny'\n",
    "           WHEN end_station_id = 83 THEN 'Mezes Park'\n",
    "           WHEN end_station_id = 88 THEN '5th St at E. San Salvador St'\n",
    "           ELSE end_station_name\n",
    "           END AS end_station_name_correct,      \n",
    "\n",
    "FROM `bigquery-public-data.san_francisco.bikeshare_trips`\n",
    "WHERE duration_sec < 86400 AND duration_sec >= 300 AND EXTRACT(DAYOFWEEK FROM start_date) IN (1, 7)\n",
    "ORDER BY duration_sec DESC \n",
    "\n",
    "\n"
   ]
  },
  {
   "cell_type": "markdown",
   "metadata": {},
   "source": [
    "Let's take a look at some rows:"
   ]
  },
  {
   "cell_type": "code",
   "execution_count": 49,
   "metadata": {},
   "outputs": [
    {
     "data": {
      "text/html": [
       "<div>\n",
       "<style scoped>\n",
       "    .dataframe tbody tr th:only-of-type {\n",
       "        vertical-align: middle;\n",
       "    }\n",
       "\n",
       "    .dataframe tbody tr th {\n",
       "        vertical-align: top;\n",
       "    }\n",
       "\n",
       "    .dataframe thead th {\n",
       "        text-align: right;\n",
       "    }\n",
       "</style>\n",
       "<table border=\"1\" class=\"dataframe\">\n",
       "  <thead>\n",
       "    <tr style=\"text-align: right;\">\n",
       "      <th></th>\n",
       "      <th>start_date</th>\n",
       "      <th>end_date</th>\n",
       "      <th>subscriber_type</th>\n",
       "      <th>start_station_name_correct</th>\n",
       "      <th>end_station_name_correct</th>\n",
       "    </tr>\n",
       "  </thead>\n",
       "  <tbody>\n",
       "    <tr>\n",
       "      <th>0</th>\n",
       "      <td>2014-01-25 15:45:00+00:00</td>\n",
       "      <td>2014-01-26 15:44:00+00:00</td>\n",
       "      <td>Customer</td>\n",
       "      <td>Evelyn Park and Ride</td>\n",
       "      <td>Evelyn Park and Ride</td>\n",
       "    </tr>\n",
       "    <tr>\n",
       "      <th>1</th>\n",
       "      <td>2016-07-09 16:30:00+00:00</td>\n",
       "      <td>2016-07-10 16:28:00+00:00</td>\n",
       "      <td>Customer</td>\n",
       "      <td>2nd at Townsend</td>\n",
       "      <td>Washington at Kearny</td>\n",
       "    </tr>\n",
       "    <tr>\n",
       "      <th>2</th>\n",
       "      <td>2014-08-31 16:13:00+00:00</td>\n",
       "      <td>2014-09-01 16:09:00+00:00</td>\n",
       "      <td>Customer</td>\n",
       "      <td>Market at 10th</td>\n",
       "      <td>Market at 10th</td>\n",
       "    </tr>\n",
       "    <tr>\n",
       "      <th>3</th>\n",
       "      <td>2016-07-09 16:33:00+00:00</td>\n",
       "      <td>2016-07-10 16:28:00+00:00</td>\n",
       "      <td>Customer</td>\n",
       "      <td>2nd at Townsend</td>\n",
       "      <td>Washington at Kearny</td>\n",
       "    </tr>\n",
       "    <tr>\n",
       "      <th>4</th>\n",
       "      <td>2014-02-15 10:26:00+00:00</td>\n",
       "      <td>2014-02-16 10:19:00+00:00</td>\n",
       "      <td>Customer</td>\n",
       "      <td>Civic Center BART (7th at Market)</td>\n",
       "      <td>Civic Center BART (7th at Market)</td>\n",
       "    </tr>\n",
       "  </tbody>\n",
       "</table>\n",
       "</div>"
      ],
      "text/plain": [
       "                 start_date                  end_date subscriber_type  \\\n",
       "0 2014-01-25 15:45:00+00:00 2014-01-26 15:44:00+00:00        Customer   \n",
       "1 2016-07-09 16:30:00+00:00 2016-07-10 16:28:00+00:00        Customer   \n",
       "2 2014-08-31 16:13:00+00:00 2014-09-01 16:09:00+00:00        Customer   \n",
       "3 2016-07-09 16:33:00+00:00 2016-07-10 16:28:00+00:00        Customer   \n",
       "4 2014-02-15 10:26:00+00:00 2014-02-16 10:19:00+00:00        Customer   \n",
       "\n",
       "          start_station_name_correct           end_station_name_correct  \n",
       "0               Evelyn Park and Ride               Evelyn Park and Ride  \n",
       "1                    2nd at Townsend               Washington at Kearny  \n",
       "2                     Market at 10th                     Market at 10th  \n",
       "3                    2nd at Townsend               Washington at Kearny  \n",
       "4  Civic Center BART (7th at Market)  Civic Center BART (7th at Market)  "
      ]
     },
     "execution_count": 49,
     "metadata": {},
     "output_type": "execute_result"
    }
   ],
   "source": [
    "weekend_trips.filter([\"start_date\", \"end_date\", \"subscriber_type\", \"start_station_name_correct\", \"end_station_name_correct\"]).head()\n"
   ]
  },
  {
   "cell_type": "markdown",
   "metadata": {},
   "source": [
    "As noted above, there are 110,341 rides on the weekend:"
   ]
  },
  {
   "cell_type": "code",
   "execution_count": 50,
   "metadata": {},
   "outputs": [
    {
     "data": {
      "text/plain": [
       "(97843, 13)"
      ]
     },
     "execution_count": 50,
     "metadata": {},
     "output_type": "execute_result"
    }
   ],
   "source": [
    "weekend_trips.shape"
   ]
  },
  {
   "cell_type": "markdown",
   "metadata": {},
   "source": [
    "#### Trip Durations"
   ]
  },
  {
   "cell_type": "markdown",
   "metadata": {},
   "source": [
    "These trips are usually of a short duration but there are a lot of outliers. "
   ]
  },
  {
   "cell_type": "code",
   "execution_count": 51,
   "metadata": {},
   "outputs": [],
   "source": [
    "# Pull out duration and convert to hours\n",
    "weekend_trips_duration_hr = weekend_trips[\"duration_sec\"]/60/60\n"
   ]
  },
  {
   "cell_type": "code",
   "execution_count": 52,
   "metadata": {},
   "outputs": [
    {
     "data": {
      "image/png": "[encoded data removed]",
      "text/plain": [
       "<Figure size 432x288 with 1 Axes>"
      ]
     },
     "metadata": {
      "needs_background": "light"
     },
     "output_type": "display_data"
    }
   ],
   "source": [
    "# Plot durations\n",
    "ax = sns.distplot(weekend_trips_duration_hr)\n",
    "ax.set(xlabel='Ride Duration (hr)', title = \"Histogram of Ride Durations for Weekend Trips\");\n"
   ]
  },
  {
   "cell_type": "code",
   "execution_count": 54,
   "metadata": {},
   "outputs": [
    {
     "data": {
      "image/png": "[encoded data removed]",
      "text/plain": [
       "<Figure size 432x288 with 1 Axes>"
      ]
     },
     "metadata": {
      "needs_background": "light"
     },
     "output_type": "display_data"
    }
   ],
   "source": [
    "ax = sns.boxplot(weekend_trips_duration_hr)\n",
    "ax.set(xlabel='Ride Duration (hr)', title = \"Boxplot of Ride Durations for Weekend Trips\");\n"
   ]
  },
  {
   "cell_type": "markdown",
   "metadata": {},
   "source": [
    "**Descriptive Stats:**"
   ]
  },
  {
   "cell_type": "code",
   "execution_count": 55,
   "metadata": {},
   "outputs": [
    {
     "data": {
      "text/plain": [
       "count    97843.000000\n",
       "mean         0.662962\n",
       "std          1.648561\n",
       "min          0.083333\n",
       "25%          0.147778\n",
       "50%          0.234444\n",
       "75%          0.432222\n",
       "max         23.989722\n",
       "Name: duration_sec, dtype: float64"
      ]
     },
     "execution_count": 55,
     "metadata": {},
     "output_type": "execute_result"
    }
   ],
   "source": [
    "weekend_trips_duration_hr.describe()"
   ]
  },
  {
   "cell_type": "markdown",
   "metadata": {},
   "source": [
    "**Are these durations different for weekday trips?**"
   ]
  },
  {
   "cell_type": "markdown",
   "metadata": {},
   "source": [
    "In the boxplot below comparing the distribution of the duration (in hours) of the rides for weekdays versus weekends, I limited the data to rows with durations under 2 hours long for easier visualization (the many outliers made the actual boxes hard to see). I relaxed my filter on the weekend rides here, using a dataset that has only eliminated trips over 24 hours and those under 5min with the same start & end stations.\n",
    "\n",
    "We can see that weekend rides are longer on average and also have more variability in their durations. However, like weekday trips many are under 45min long. "
   ]
  },
  {
   "cell_type": "code",
   "execution_count": 56,
   "metadata": {},
   "outputs": [],
   "source": [
    "# Pull out duration and convert to hours\n",
    "week_day_patterns[\"duration_hr\"] = week_day_patterns[\"duration_sec\"]/60/60\n"
   ]
  },
  {
   "cell_type": "code",
   "execution_count": 57,
   "metadata": {},
   "outputs": [],
   "source": [
    "# filter data for trips under 2 hours\n",
    "trips_under2 = week_day_patterns[week_day_patterns[\"duration_hr\"] < 2]"
   ]
  },
  {
   "cell_type": "code",
   "execution_count": 58,
   "metadata": {},
   "outputs": [
    {
     "data": {
      "image/png": "[encoded data removed]",
      "text/plain": [
       "<Figure size 360x360 with 1 Axes>"
      ]
     },
     "metadata": {
      "needs_background": "light"
     },
     "output_type": "display_data"
    }
   ],
   "source": [
    "# plot \n",
    "ax = sns.catplot(y=\"dow_weekday\", x=\"duration_hr\",\n",
    "                 kind=\"violin\", data = trips_under2)\n",
    "ax.set(ylabel = \"\", xlabel = \"Ride Duration (hr)\", title = \"Violin Plots Comparing Ride Durations between Weekdays and Weekends\");\n"
   ]
  },
  {
   "cell_type": "markdown",
   "metadata": {},
   "source": [
    "#### Top 5 Weekend Trips"
   ]
  },
  {
   "cell_type": "markdown",
   "metadata": {},
   "source": [
    "A lot of the most popular weekend trips are along the Embarcadero -- a very popular tourist destination -- which suggests that many of these are pleasure trips."
   ]
  },
  {
   "cell_type": "code",
   "execution_count": 59,
   "metadata": {},
   "outputs": [],
   "source": [
    "%%bigquery top_5_weekend_trips\n",
    "SELECT start_station_id, end_station_id, start_station_name, end_station_name, \n",
    "        CASE \n",
    "           WHEN start_station_id = 30 THEN 'Evelyn Park and Ride' \n",
    "           WHEN start_station_id = 26 THEN 'Redwood City Medical Center'\n",
    "           WHEN start_station_id = 21 THEN 'Sequoia Hospital'\n",
    "           WHEN start_station_id = 33 THEN 'Rengstorff Avenue / California Street'\n",
    "           WHEN start_station_id = 25 THEN 'Broadway at Main'\n",
    "           WHEN start_station_id = 80 THEN 'San Jose Government Center'\n",
    "           WHEN start_station_id = 47 THEN 'Post at Kearny'\n",
    "           WHEN start_station_id = 46 THEN 'Washington at Kearny'\n",
    "           WHEN start_station_id = 83 THEN 'Mezes Park'\n",
    "           WHEN start_station_id = 88 THEN '5th St at E. San Salvador St'\n",
    "           ELSE start_station_name\n",
    "           END AS start_station_name_correct,\n",
    "        CASE WHEN end_station_id = 30 THEN 'Evelyn Park and Ride' \n",
    "           WHEN end_station_id = 26 THEN 'Redwood City Medical Center'\n",
    "           WHEN end_station_id = 21 THEN 'Sequoia Hospital'\n",
    "           WHEN end_station_id = 33 THEN 'Rengstorff Avenue / California Street'\n",
    "           WHEN end_station_id = 25 THEN 'Broadway at Main'\n",
    "           WHEN end_station_id = 80 THEN 'San Jose Government Center'\n",
    "           WHEN end_station_id = 47 THEN 'Post at Kearny'\n",
    "           WHEN end_station_id = 46 THEN 'Washington at Kearny'\n",
    "           WHEN end_station_id = 83 THEN 'Mezes Park'\n",
    "           WHEN end_station_id = 88 THEN '5th St at E. San Salvador St'\n",
    "           ELSE end_station_name\n",
    "           END AS end_station_name_correct,\n",
    "COUNT(*) as trip_freq \n",
    "\n",
    "FROM `bigquery-public-data.san_francisco.bikeshare_trips` \n",
    "WHERE EXTRACT(DAYOFWEEK FROM start_date) IN (1, 7) AND ((EXTRACT(HOUR FROM start_date) >= 7 AND EXTRACT(HOUR FROM start_date) <= 9) OR (EXTRACT(HOUR FROM start_date) >= 16 AND EXTRACT(HOUR FROM start_date) <= 18)) AND duration_sec < 86400 AND duration_sec >= 300 AND start_station_id != end_station_id\n",
    "GROUP BY start_station_id, end_station_id, start_station_name, end_station_name\n",
    "ORDER BY trip_freq DESC \n",
    "LIMIT 5\n"
   ]
  },
  {
   "cell_type": "code",
   "execution_count": 60,
   "metadata": {},
   "outputs": [
    {
     "data": {
      "text/html": [
       "<div>\n",
       "<style scoped>\n",
       "    .dataframe tbody tr th:only-of-type {\n",
       "        vertical-align: middle;\n",
       "    }\n",
       "\n",
       "    .dataframe tbody tr th {\n",
       "        vertical-align: top;\n",
       "    }\n",
       "\n",
       "    .dataframe thead th {\n",
       "        text-align: right;\n",
       "    }\n",
       "</style>\n",
       "<table border=\"1\" class=\"dataframe\">\n",
       "  <thead>\n",
       "    <tr style=\"text-align: right;\">\n",
       "      <th></th>\n",
       "      <th>start_station_name_correct</th>\n",
       "      <th>end_station_name_correct</th>\n",
       "      <th>trip_freq</th>\n",
       "    </tr>\n",
       "  </thead>\n",
       "  <tbody>\n",
       "    <tr>\n",
       "      <th>0</th>\n",
       "      <td>Harry Bridges Plaza (Ferry Building)</td>\n",
       "      <td>Embarcadero at Sansome</td>\n",
       "      <td>547</td>\n",
       "    </tr>\n",
       "    <tr>\n",
       "      <th>1</th>\n",
       "      <td>Embarcadero at Sansome</td>\n",
       "      <td>Harry Bridges Plaza (Ferry Building)</td>\n",
       "      <td>405</td>\n",
       "    </tr>\n",
       "    <tr>\n",
       "      <th>2</th>\n",
       "      <td>Embarcadero at Bryant</td>\n",
       "      <td>Embarcadero at Sansome</td>\n",
       "      <td>332</td>\n",
       "    </tr>\n",
       "    <tr>\n",
       "      <th>3</th>\n",
       "      <td>Embarcadero at Bryant</td>\n",
       "      <td>Harry Bridges Plaza (Ferry Building)</td>\n",
       "      <td>194</td>\n",
       "    </tr>\n",
       "    <tr>\n",
       "      <th>4</th>\n",
       "      <td>Embarcadero at Sansome</td>\n",
       "      <td>Steuart at Market</td>\n",
       "      <td>178</td>\n",
       "    </tr>\n",
       "  </tbody>\n",
       "</table>\n",
       "</div>"
      ],
      "text/plain": [
       "             start_station_name_correct              end_station_name_correct  \\\n",
       "0  Harry Bridges Plaza (Ferry Building)                Embarcadero at Sansome   \n",
       "1                Embarcadero at Sansome  Harry Bridges Plaza (Ferry Building)   \n",
       "2                 Embarcadero at Bryant                Embarcadero at Sansome   \n",
       "3                 Embarcadero at Bryant  Harry Bridges Plaza (Ferry Building)   \n",
       "4                Embarcadero at Sansome                     Steuart at Market   \n",
       "\n",
       "   trip_freq  \n",
       "0        547  \n",
       "1        405  \n",
       "2        332  \n",
       "3        194  \n",
       "4        178  "
      ]
     },
     "execution_count": 60,
     "metadata": {},
     "output_type": "execute_result"
    }
   ],
   "source": [
    "top_5_weekend_trips.filter([\"start_station_name_correct\", \"end_station_name_correct\", \"trip_freq\"])"
   ]
  },
  {
   "cell_type": "code",
   "execution_count": 61,
   "metadata": {},
   "outputs": [],
   "source": [
    "%%bigquery embarcadero_weekend_trips\n",
    "SELECT *, \n",
    "        CASE \n",
    "           WHEN start_station_id = 30 THEN 'Evelyn Park and Ride' \n",
    "           WHEN start_station_id = 26 THEN 'Redwood City Medical Center'\n",
    "           WHEN start_station_id = 21 THEN 'Sequoia Hospital'\n",
    "           WHEN start_station_id = 33 THEN 'Rengstorff Avenue / California Street'\n",
    "           WHEN start_station_id = 25 THEN 'Broadway at Main'\n",
    "           WHEN start_station_id = 80 THEN 'San Jose Government Center'\n",
    "           WHEN start_station_id = 47 THEN 'Post at Kearny'\n",
    "           WHEN start_station_id = 46 THEN 'Washington at Kearny'\n",
    "           WHEN start_station_id = 83 THEN 'Mezes Park'\n",
    "           WHEN start_station_id = 88 THEN '5th St at E. San Salvador St'\n",
    "           ELSE start_station_name\n",
    "           END AS start_station_name_correct,\n",
    "        CASE WHEN end_station_id = 30 THEN 'Evelyn Park and Ride' \n",
    "           WHEN end_station_id = 26 THEN 'Redwood City Medical Center'\n",
    "           WHEN end_station_id = 21 THEN 'Sequoia Hospital'\n",
    "           WHEN end_station_id = 33 THEN 'Rengstorff Avenue / California Street'\n",
    "           WHEN end_station_id = 25 THEN 'Broadway at Main'\n",
    "           WHEN end_station_id = 80 THEN 'San Jose Government Center'\n",
    "           WHEN end_station_id = 47 THEN 'Post at Kearny'\n",
    "           WHEN end_station_id = 46 THEN 'Washington at Kearny'\n",
    "           WHEN end_station_id = 83 THEN 'Mezes Park'\n",
    "           WHEN end_station_id = 88 THEN '5th St at E. San Salvador St'\n",
    "           ELSE end_station_name\n",
    "           END AS end_station_name_correct,      \n",
    "\n",
    "FROM `bigquery-public-data.san_francisco.bikeshare_trips`\n",
    "WHERE (start_station_name LIKE \"%Embarcadero%\" OR end_station_name LIKE \"%Embarcadeo%\") AND duration_sec < 86400 AND duration_sec >= 300 AND EXTRACT(DAYOFWEEK FROM start_date) IN (1, 7)\n",
    "ORDER BY duration_sec DESC \n",
    "\n",
    "\n"
   ]
  },
  {
   "cell_type": "code",
   "execution_count": 62,
   "metadata": {},
   "outputs": [
    {
     "data": {
      "text/html": [
       "<div>\n",
       "<style scoped>\n",
       "    .dataframe tbody tr th:only-of-type {\n",
       "        vertical-align: middle;\n",
       "    }\n",
       "\n",
       "    .dataframe tbody tr th {\n",
       "        vertical-align: top;\n",
       "    }\n",
       "\n",
       "    .dataframe thead th {\n",
       "        text-align: right;\n",
       "    }\n",
       "</style>\n",
       "<table border=\"1\" class=\"dataframe\">\n",
       "  <thead>\n",
       "    <tr style=\"text-align: right;\">\n",
       "      <th></th>\n",
       "      <th>start_date</th>\n",
       "      <th>end_date</th>\n",
       "      <th>subscriber_type</th>\n",
       "      <th>start_station_name_correct</th>\n",
       "      <th>end_station_name_correct</th>\n",
       "    </tr>\n",
       "  </thead>\n",
       "  <tbody>\n",
       "    <tr>\n",
       "      <th>0</th>\n",
       "      <td>2014-09-20 17:32:00+00:00</td>\n",
       "      <td>2014-09-21 17:09:00+00:00</td>\n",
       "      <td>Customer</td>\n",
       "      <td>Embarcadero at Bryant</td>\n",
       "      <td>Embarcadero at Bryant</td>\n",
       "    </tr>\n",
       "    <tr>\n",
       "      <th>1</th>\n",
       "      <td>2016-07-16 13:48:00+00:00</td>\n",
       "      <td>2016-07-17 13:26:00+00:00</td>\n",
       "      <td>Customer</td>\n",
       "      <td>Embarcadero at Sansome</td>\n",
       "      <td>Embarcadero at Sansome</td>\n",
       "    </tr>\n",
       "    <tr>\n",
       "      <th>2</th>\n",
       "      <td>2015-05-30 16:52:00+00:00</td>\n",
       "      <td>2015-05-31 16:19:00+00:00</td>\n",
       "      <td>Customer</td>\n",
       "      <td>Embarcadero at Folsom</td>\n",
       "      <td>Townsend at 7th</td>\n",
       "    </tr>\n",
       "    <tr>\n",
       "      <th>3</th>\n",
       "      <td>2015-06-06 12:04:00+00:00</td>\n",
       "      <td>2015-06-07 11:05:00+00:00</td>\n",
       "      <td>Customer</td>\n",
       "      <td>Embarcadero at Vallejo</td>\n",
       "      <td>Harry Bridges Plaza (Ferry Building)</td>\n",
       "    </tr>\n",
       "    <tr>\n",
       "      <th>4</th>\n",
       "      <td>2015-06-06 12:04:00+00:00</td>\n",
       "      <td>2015-06-07 11:04:00+00:00</td>\n",
       "      <td>Customer</td>\n",
       "      <td>Embarcadero at Vallejo</td>\n",
       "      <td>Harry Bridges Plaza (Ferry Building)</td>\n",
       "    </tr>\n",
       "  </tbody>\n",
       "</table>\n",
       "</div>"
      ],
      "text/plain": [
       "                 start_date                  end_date subscriber_type  \\\n",
       "0 2014-09-20 17:32:00+00:00 2014-09-21 17:09:00+00:00        Customer   \n",
       "1 2016-07-16 13:48:00+00:00 2016-07-17 13:26:00+00:00        Customer   \n",
       "2 2015-05-30 16:52:00+00:00 2015-05-31 16:19:00+00:00        Customer   \n",
       "3 2015-06-06 12:04:00+00:00 2015-06-07 11:05:00+00:00        Customer   \n",
       "4 2015-06-06 12:04:00+00:00 2015-06-07 11:04:00+00:00        Customer   \n",
       "\n",
       "  start_station_name_correct              end_station_name_correct  \n",
       "0      Embarcadero at Bryant                 Embarcadero at Bryant  \n",
       "1     Embarcadero at Sansome                Embarcadero at Sansome  \n",
       "2      Embarcadero at Folsom                       Townsend at 7th  \n",
       "3     Embarcadero at Vallejo  Harry Bridges Plaza (Ferry Building)  \n",
       "4     Embarcadero at Vallejo  Harry Bridges Plaza (Ferry Building)  "
      ]
     },
     "execution_count": 62,
     "metadata": {},
     "output_type": "execute_result"
    }
   ],
   "source": [
    "embarcadero_weekend_trips.filter([\"start_date\", \"end_date\", \"subscriber_type\", \"rush_hour\", \"start_station_name_correct\", \"end_station_name_correct\"]).head()"
   ]
  },
  {
   "cell_type": "code",
   "execution_count": 63,
   "metadata": {},
   "outputs": [],
   "source": [
    "# Pull out duration and convert to hours\n",
    "embarcadero_weekend_trips_hr = embarcadero_weekend_trips[\"duration_sec\"]/60/60\n"
   ]
  },
  {
   "cell_type": "code",
   "execution_count": 64,
   "metadata": {},
   "outputs": [
    {
     "data": {
      "image/png": "[encoded data removed]",
      "text/plain": [
       "<Figure size 432x288 with 1 Axes>"
      ]
     },
     "metadata": {
      "needs_background": "light"
     },
     "output_type": "display_data"
    }
   ],
   "source": [
    "ax = sns.distplot(embarcadero_weekend_trips_hr)\n",
    "ax.set(xlabel='Ride Duration (hr)', ylabel = 'Frequency', title = \"Histogram of Ride Durations for Embarcadero Weekend Trips\");\n"
   ]
  },
  {
   "cell_type": "code",
   "execution_count": 65,
   "metadata": {},
   "outputs": [
    {
     "data": {
      "image/png": "[encoded data removed]",
      "text/plain": [
       "<Figure size 432x288 with 1 Axes>"
      ]
     },
     "metadata": {
      "needs_background": "light"
     },
     "output_type": "display_data"
    }
   ],
   "source": [
    "ax = sns.boxplot(embarcadero_weekend_trips_hr)\n",
    "ax.set(xlabel='Ride Duration (hr)', title = \"Boxplot of Ride Durations for Embarcadero Weekend Trips\");\n"
   ]
  },
  {
   "cell_type": "markdown",
   "metadata": {},
   "source": [
    "**Descriptive Stats:**"
   ]
  },
  {
   "cell_type": "code",
   "execution_count": 66,
   "metadata": {},
   "outputs": [
    {
     "data": {
      "text/plain": [
       "count    16428.000000\n",
       "mean         0.601582\n",
       "std          1.408752\n",
       "min          0.083333\n",
       "25%          0.165556\n",
       "50%          0.265833\n",
       "75%          0.443333\n",
       "max         23.624722\n",
       "Name: duration_sec, dtype: float64"
      ]
     },
     "execution_count": 66,
     "metadata": {},
     "output_type": "execute_result"
    }
   ],
   "source": [
    "embarcadero_weekend_trips_hr.describe()"
   ]
  },
  {
   "cell_type": "markdown",
   "metadata": {},
   "source": [
    "#### Non-Subscription Customers"
   ]
  },
  {
   "cell_type": "markdown",
   "metadata": {},
   "source": [
    "A lot of the rides are under 30min (which would cost \\\\$2). Are customers keeping themselves to 30min because of the pricing? Is there another offer we could extend to them for pleasure rides on the weekends that would encourage people to take longer rides? Or attract new customers for pleasure rides on the weekends?\n",
    "\n",
    "Approximately half of the rides (54,373 of the 110,341) are taken by non-subscription customers. "
   ]
  },
  {
   "cell_type": "code",
   "execution_count": 67,
   "metadata": {},
   "outputs": [],
   "source": [
    "%%bigquery weekend_trips_customers\n",
    "SELECT *, \n",
    "        CASE \n",
    "           WHEN start_station_id = 30 THEN 'Evelyn Park and Ride' \n",
    "           WHEN start_station_id = 26 THEN 'Redwood City Medical Center'\n",
    "           WHEN start_station_id = 21 THEN 'Sequoia Hospital'\n",
    "           WHEN start_station_id = 33 THEN 'Rengstorff Avenue / California Street'\n",
    "           WHEN start_station_id = 25 THEN 'Broadway at Main'\n",
    "           WHEN start_station_id = 80 THEN 'San Jose Government Center'\n",
    "           WHEN start_station_id = 47 THEN 'Post at Kearny'\n",
    "           WHEN start_station_id = 46 THEN 'Washington at Kearny'\n",
    "           WHEN start_station_id = 83 THEN 'Mezes Park'\n",
    "           WHEN start_station_id = 88 THEN '5th St at E. San Salvador St'\n",
    "           ELSE start_station_name\n",
    "           END AS start_station_name_correct,\n",
    "        CASE WHEN end_station_id = 30 THEN 'Evelyn Park and Ride' \n",
    "           WHEN end_station_id = 26 THEN 'Redwood City Medical Center'\n",
    "           WHEN end_station_id = 21 THEN 'Sequoia Hospital'\n",
    "           WHEN end_station_id = 33 THEN 'Rengstorff Avenue / California Street'\n",
    "           WHEN end_station_id = 25 THEN 'Broadway at Main'\n",
    "           WHEN end_station_id = 80 THEN 'San Jose Government Center'\n",
    "           WHEN end_station_id = 47 THEN 'Post at Kearny'\n",
    "           WHEN end_station_id = 46 THEN 'Washington at Kearny'\n",
    "           WHEN end_station_id = 83 THEN 'Mezes Park'\n",
    "           WHEN end_station_id = 88 THEN '5th St at E. San Salvador St'\n",
    "           ELSE end_station_name\n",
    "           END AS end_station_name_correct,      \n",
    "\n",
    "FROM `bigquery-public-data.san_francisco.bikeshare_trips`\n",
    "WHERE subscriber_type = \"Customer\" AND duration_sec < 86400 AND duration_sec >= 300 AND EXTRACT(DAYOFWEEK FROM start_date) IN (1, 7)\n",
    "ORDER BY duration_sec DESC \n",
    "\n",
    "\n"
   ]
  },
  {
   "cell_type": "markdown",
   "metadata": {},
   "source": [
    "The 5 longest weekend trips are just under 24 hours long:"
   ]
  },
  {
   "cell_type": "code",
   "execution_count": 68,
   "metadata": {},
   "outputs": [
    {
     "data": {
      "text/html": [
       "<div>\n",
       "<style scoped>\n",
       "    .dataframe tbody tr th:only-of-type {\n",
       "        vertical-align: middle;\n",
       "    }\n",
       "\n",
       "    .dataframe tbody tr th {\n",
       "        vertical-align: top;\n",
       "    }\n",
       "\n",
       "    .dataframe thead th {\n",
       "        text-align: right;\n",
       "    }\n",
       "</style>\n",
       "<table border=\"1\" class=\"dataframe\">\n",
       "  <thead>\n",
       "    <tr style=\"text-align: right;\">\n",
       "      <th></th>\n",
       "      <th>start_date</th>\n",
       "      <th>end_date</th>\n",
       "      <th>subscriber_type</th>\n",
       "      <th>start_station_name_correct</th>\n",
       "      <th>end_station_name_correct</th>\n",
       "    </tr>\n",
       "  </thead>\n",
       "  <tbody>\n",
       "    <tr>\n",
       "      <th>0</th>\n",
       "      <td>2014-01-25 15:45:00+00:00</td>\n",
       "      <td>2014-01-26 15:44:00+00:00</td>\n",
       "      <td>Customer</td>\n",
       "      <td>Evelyn Park and Ride</td>\n",
       "      <td>Evelyn Park and Ride</td>\n",
       "    </tr>\n",
       "    <tr>\n",
       "      <th>1</th>\n",
       "      <td>2016-07-09 16:30:00+00:00</td>\n",
       "      <td>2016-07-10 16:28:00+00:00</td>\n",
       "      <td>Customer</td>\n",
       "      <td>2nd at Townsend</td>\n",
       "      <td>Washington at Kearny</td>\n",
       "    </tr>\n",
       "    <tr>\n",
       "      <th>2</th>\n",
       "      <td>2014-08-31 16:13:00+00:00</td>\n",
       "      <td>2014-09-01 16:09:00+00:00</td>\n",
       "      <td>Customer</td>\n",
       "      <td>Market at 10th</td>\n",
       "      <td>Market at 10th</td>\n",
       "    </tr>\n",
       "    <tr>\n",
       "      <th>3</th>\n",
       "      <td>2016-07-09 16:33:00+00:00</td>\n",
       "      <td>2016-07-10 16:28:00+00:00</td>\n",
       "      <td>Customer</td>\n",
       "      <td>2nd at Townsend</td>\n",
       "      <td>Washington at Kearny</td>\n",
       "    </tr>\n",
       "    <tr>\n",
       "      <th>4</th>\n",
       "      <td>2014-02-15 10:26:00+00:00</td>\n",
       "      <td>2014-02-16 10:19:00+00:00</td>\n",
       "      <td>Customer</td>\n",
       "      <td>Civic Center BART (7th at Market)</td>\n",
       "      <td>Civic Center BART (7th at Market)</td>\n",
       "    </tr>\n",
       "  </tbody>\n",
       "</table>\n",
       "</div>"
      ],
      "text/plain": [
       "                 start_date                  end_date subscriber_type  \\\n",
       "0 2014-01-25 15:45:00+00:00 2014-01-26 15:44:00+00:00        Customer   \n",
       "1 2016-07-09 16:30:00+00:00 2016-07-10 16:28:00+00:00        Customer   \n",
       "2 2014-08-31 16:13:00+00:00 2014-09-01 16:09:00+00:00        Customer   \n",
       "3 2016-07-09 16:33:00+00:00 2016-07-10 16:28:00+00:00        Customer   \n",
       "4 2014-02-15 10:26:00+00:00 2014-02-16 10:19:00+00:00        Customer   \n",
       "\n",
       "          start_station_name_correct           end_station_name_correct  \n",
       "0               Evelyn Park and Ride               Evelyn Park and Ride  \n",
       "1                    2nd at Townsend               Washington at Kearny  \n",
       "2                     Market at 10th                     Market at 10th  \n",
       "3                    2nd at Townsend               Washington at Kearny  \n",
       "4  Civic Center BART (7th at Market)  Civic Center BART (7th at Market)  "
      ]
     },
     "execution_count": 68,
     "metadata": {},
     "output_type": "execute_result"
    }
   ],
   "source": [
    "weekend_trips_customers.filter([\"start_date\", \"end_date\", \"subscriber_type\", \"rush_hour\", \"start_station_name_correct\", \"end_station_name_correct\"]).head()\n"
   ]
  },
  {
   "cell_type": "markdown",
   "metadata": {},
   "source": [
    "The 5 shortest are at 5min long (which is expected given that we eliminated trips under this duration). "
   ]
  },
  {
   "cell_type": "code",
   "execution_count": 69,
   "metadata": {},
   "outputs": [
    {
     "data": {
      "text/html": [
       "<div>\n",
       "<style scoped>\n",
       "    .dataframe tbody tr th:only-of-type {\n",
       "        vertical-align: middle;\n",
       "    }\n",
       "\n",
       "    .dataframe tbody tr th {\n",
       "        vertical-align: top;\n",
       "    }\n",
       "\n",
       "    .dataframe thead th {\n",
       "        text-align: right;\n",
       "    }\n",
       "</style>\n",
       "<table border=\"1\" class=\"dataframe\">\n",
       "  <thead>\n",
       "    <tr style=\"text-align: right;\">\n",
       "      <th></th>\n",
       "      <th>start_date</th>\n",
       "      <th>end_date</th>\n",
       "      <th>subscriber_type</th>\n",
       "      <th>start_station_name_correct</th>\n",
       "      <th>end_station_name_correct</th>\n",
       "    </tr>\n",
       "  </thead>\n",
       "  <tbody>\n",
       "    <tr>\n",
       "      <th>53362</th>\n",
       "      <td>2013-08-31 00:49:00+00:00</td>\n",
       "      <td>2013-08-31 00:54:00+00:00</td>\n",
       "      <td>Customer</td>\n",
       "      <td>MLK Library</td>\n",
       "      <td>SJSU - San Salvador at 9th</td>\n",
       "    </tr>\n",
       "    <tr>\n",
       "      <th>53363</th>\n",
       "      <td>2015-07-05 17:26:00+00:00</td>\n",
       "      <td>2015-07-05 17:31:00+00:00</td>\n",
       "      <td>Customer</td>\n",
       "      <td>Temporary Transbay Terminal (Howard at Beale)</td>\n",
       "      <td>Mechanics Plaza (Market at Battery)</td>\n",
       "    </tr>\n",
       "    <tr>\n",
       "      <th>53364</th>\n",
       "      <td>2014-11-01 17:27:00+00:00</td>\n",
       "      <td>2014-11-01 17:32:00+00:00</td>\n",
       "      <td>Customer</td>\n",
       "      <td>Embarcadero at Bryant</td>\n",
       "      <td>Harry Bridges Plaza (Ferry Building)</td>\n",
       "    </tr>\n",
       "    <tr>\n",
       "      <th>53365</th>\n",
       "      <td>2014-05-31 18:38:00+00:00</td>\n",
       "      <td>2014-05-31 18:43:00+00:00</td>\n",
       "      <td>Customer</td>\n",
       "      <td>Harry Bridges Plaza (Ferry Building)</td>\n",
       "      <td>Harry Bridges Plaza (Ferry Building)</td>\n",
       "    </tr>\n",
       "    <tr>\n",
       "      <th>53366</th>\n",
       "      <td>2014-06-28 19:40:00+00:00</td>\n",
       "      <td>2014-06-28 19:45:00+00:00</td>\n",
       "      <td>Customer</td>\n",
       "      <td>2nd at Townsend</td>\n",
       "      <td>San Francisco Caltrain 2 (330 Townsend)</td>\n",
       "    </tr>\n",
       "  </tbody>\n",
       "</table>\n",
       "</div>"
      ],
      "text/plain": [
       "                     start_date                  end_date subscriber_type  \\\n",
       "53362 2013-08-31 00:49:00+00:00 2013-08-31 00:54:00+00:00        Customer   \n",
       "53363 2015-07-05 17:26:00+00:00 2015-07-05 17:31:00+00:00        Customer   \n",
       "53364 2014-11-01 17:27:00+00:00 2014-11-01 17:32:00+00:00        Customer   \n",
       "53365 2014-05-31 18:38:00+00:00 2014-05-31 18:43:00+00:00        Customer   \n",
       "53366 2014-06-28 19:40:00+00:00 2014-06-28 19:45:00+00:00        Customer   \n",
       "\n",
       "                          start_station_name_correct  \\\n",
       "53362                                    MLK Library   \n",
       "53363  Temporary Transbay Terminal (Howard at Beale)   \n",
       "53364                          Embarcadero at Bryant   \n",
       "53365           Harry Bridges Plaza (Ferry Building)   \n",
       "53366                                2nd at Townsend   \n",
       "\n",
       "                      end_station_name_correct  \n",
       "53362               SJSU - San Salvador at 9th  \n",
       "53363      Mechanics Plaza (Market at Battery)  \n",
       "53364     Harry Bridges Plaza (Ferry Building)  \n",
       "53365     Harry Bridges Plaza (Ferry Building)  \n",
       "53366  San Francisco Caltrain 2 (330 Townsend)  "
      ]
     },
     "execution_count": 69,
     "metadata": {},
     "output_type": "execute_result"
    }
   ],
   "source": [
    "weekend_trips_customers.filter([\"start_date\", \"end_date\", \"subscriber_type\", \"rush_hour\", \"start_station_name_correct\", \"end_station_name_correct\"]).tail()\n"
   ]
  },
  {
   "cell_type": "markdown",
   "metadata": {},
   "source": [
    "#### Proportion of rides that are subscribed versus non-subscribed customers for commuter trips and weekend trips"
   ]
  },
  {
   "cell_type": "markdown",
   "metadata": {},
   "source": [
    "96% of typical commuter trips (under 45min) are taken by subscribers (calculated above) -- but only 45% of weekend trips are. It appears that there is a different type of rider on the weekends! "
   ]
  },
  {
   "cell_type": "markdown",
   "metadata": {},
   "source": [
    "Number of weekend trips:"
   ]
  },
  {
   "cell_type": "code",
   "execution_count": 70,
   "metadata": {},
   "outputs": [
    {
     "data": {
      "text/html": [
       "<div>\n",
       "<style scoped>\n",
       "    .dataframe tbody tr th:only-of-type {\n",
       "        vertical-align: middle;\n",
       "    }\n",
       "\n",
       "    .dataframe tbody tr th {\n",
       "        vertical-align: top;\n",
       "    }\n",
       "\n",
       "    .dataframe thead th {\n",
       "        text-align: right;\n",
       "    }\n",
       "</style>\n",
       "<table border=\"1\" class=\"dataframe\">\n",
       "  <thead>\n",
       "    <tr style=\"text-align: right;\">\n",
       "      <th></th>\n",
       "      <th>f0_</th>\n",
       "    </tr>\n",
       "  </thead>\n",
       "  <tbody>\n",
       "    <tr>\n",
       "      <th>0</th>\n",
       "      <td>97750</td>\n",
       "    </tr>\n",
       "  </tbody>\n",
       "</table>\n",
       "</div>"
      ],
      "text/plain": [
       "     f0_\n",
       "0  97750"
      ]
     },
     "execution_count": 70,
     "metadata": {},
     "output_type": "execute_result"
    }
   ],
   "source": [
    "%%bigquery \n",
    "SELECT COUNT(*), \n",
    "FROM `bigquery-public-data.san_francisco.bikeshare_trips`\n",
    "WHERE duration_sec < 86400 AND duration_sec > 300 AND EXTRACT(DAYOFWEEK FROM start_date) IN (1, 7)\n"
   ]
  },
  {
   "cell_type": "markdown",
   "metadata": {},
   "source": [
    "Number of weekend trips taken by Non-subscription riders:"
   ]
  },
  {
   "cell_type": "code",
   "execution_count": 71,
   "metadata": {},
   "outputs": [
    {
     "data": {
      "text/html": [
       "<div>\n",
       "<style scoped>\n",
       "    .dataframe tbody tr th:only-of-type {\n",
       "        vertical-align: middle;\n",
       "    }\n",
       "\n",
       "    .dataframe tbody tr th {\n",
       "        vertical-align: top;\n",
       "    }\n",
       "\n",
       "    .dataframe thead th {\n",
       "        text-align: right;\n",
       "    }\n",
       "</style>\n",
       "<table border=\"1\" class=\"dataframe\">\n",
       "  <thead>\n",
       "    <tr style=\"text-align: right;\">\n",
       "      <th></th>\n",
       "      <th>f0_</th>\n",
       "    </tr>\n",
       "  </thead>\n",
       "  <tbody>\n",
       "    <tr>\n",
       "      <th>0</th>\n",
       "      <td>44476</td>\n",
       "    </tr>\n",
       "  </tbody>\n",
       "</table>\n",
       "</div>"
      ],
      "text/plain": [
       "     f0_\n",
       "0  44476"
      ]
     },
     "execution_count": 71,
     "metadata": {},
     "output_type": "execute_result"
    }
   ],
   "source": [
    "%%bigquery\n",
    "SELECT COUNT(*), \n",
    "FROM `bigquery-public-data.san_francisco.bikeshare_trips`\n",
    "WHERE subscriber_type = \"Subscriber\" AND duration_sec < 86400 AND duration_sec >= 300 AND EXTRACT(DAYOFWEEK FROM start_date) IN (1, 7)\n"
   ]
  },
  {
   "cell_type": "markdown",
   "metadata": {},
   "source": [
    "Proportion of weekend trips taken by Non-subscription riders = 0.45 = 45%"
   ]
  },
  {
   "cell_type": "code",
   "execution_count": 72,
   "metadata": {},
   "outputs": [
    {
     "data": {
      "text/plain": [
       "0.454997442455243"
      ]
     },
     "execution_count": 72,
     "metadata": {},
     "output_type": "execute_result"
    }
   ],
   "source": [
    "44476/97750"
   ]
  },
  {
   "cell_type": "markdown",
   "metadata": {},
   "source": [
    "#### Trip Durations\n",
    "\n",
    "From the plot below we can see that most of the weekend trips taken by non-subscription customers are under one-half hour (demarcated by the vertical orange line)."
   ]
  },
  {
   "cell_type": "code",
   "execution_count": 73,
   "metadata": {},
   "outputs": [],
   "source": [
    "# Pull out duration and convert to hours\n",
    "weekend_trips_customers_hr = weekend_trips_customers[\"duration_sec\"]/60/60\n"
   ]
  },
  {
   "cell_type": "code",
   "execution_count": 74,
   "metadata": {},
   "outputs": [
    {
     "data": {
      "image/png": "[encoded data removed]",
      "text/plain": [
       "<Figure size 432x288 with 1 Axes>"
      ]
     },
     "metadata": {
      "needs_background": "light"
     },
     "output_type": "display_data"
    }
   ],
   "source": [
    "# plot\n",
    "ax = sns.distplot(weekend_trips_customers_hr)\n",
    "ax.set(xlabel='Ride Duration (hr)', ylabel = 'Frequency', title = \"Histogram of Ride Durations for Non-Subscription Weekend Trips\");\n",
    "ax.plot([.5, .5], [0, 1.4]);\n"
   ]
  },
  {
   "cell_type": "code",
   "execution_count": 75,
   "metadata": {},
   "outputs": [
    {
     "data": {
      "image/png": "[encoded data removed]",
      "text/plain": [
       "<Figure size 432x288 with 1 Axes>"
      ]
     },
     "metadata": {
      "needs_background": "light"
     },
     "output_type": "display_data"
    }
   ],
   "source": [
    "ax = sns.boxplot(weekend_trips_customers_hr)\n",
    "ax.set(xlabel='Ride Duration (hr)', title = \"Boxplot of Ride Durations for Non-Subscription Weekend Trips\");\n",
    "ax.plot([.5, .5], [0, 1], color = \"tab:orange\");"
   ]
  },
  {
   "cell_type": "markdown",
   "metadata": {},
   "source": [
    "**Descriptive Stats:**"
   ]
  },
  {
   "cell_type": "code",
   "execution_count": null,
   "metadata": {},
   "outputs": [],
   "source": [
    "weekend_trips_customers_hr.describe()"
   ]
  },
  {
   "cell_type": "markdown",
   "metadata": {},
   "source": [
    "### Recommendation for Weekend Rider Offer\n",
    "\n",
    "Currently, a customer without a subscription would pay \\\\$2 for a ride up to 30min and \\\\$3 per 15min after that. The ride durations seem to be mostly under 30min long -- is this because of this price structure? \n",
    "\n",
    "If a customer wanted to take a 45min ride on the weekend, they would pay \\\\$5. Two trips like this would cost them \\\\$10, three would cost \\\\$15. If they wanted to do 45min trips this often, they might as well pay for a subscription! \n",
    "\n",
    "There are many rides that last above 45min among these customers -- what if there would be some interest in longer pleasure rides on the weekends (closer to an hour)? \n",
    "\n",
    "One 1-hour ride would cost \\\\$8 -- perhaps people would be interested in taking a 1-hour ride a few times per month? With a subscription, if they wanted to take two 1-hour rides during the month it would cost them \\\\$21 total. \n",
    "\n",
    "Given these current offerings, I would recommend offering unlimited 1-hour weekend rides for \\\\$10 per month -- there are less available days than the usual subscription, but this is much lower in cost than if customers wanted to pay without any additional offer.  However, it is only a few dollars more than what someone would pay for a \\\\$1 ride anyway -- which might encourage someone to sign up for the subscription for just \\\\$2 more. "
   ]
  },
  {
   "cell_type": "markdown",
   "metadata": {},
   "source": [
    "### Extremely short rides: an error or an opportunity?\n",
    "\n",
    "Do extremely short rides represent a pure data error -- or could they mark customers who attempted to rent a bike and could not complete the transaction? \n"
   ]
  },
  {
   "cell_type": "code",
   "execution_count": 76,
   "metadata": {},
   "outputs": [],
   "source": [
    "%%bigquery short_rides\n",
    "SELECT start_date,\n",
    "        CASE \n",
    "           WHEN start_station_id = 30 THEN 'Evelyn Park and Ride' \n",
    "           WHEN start_station_id = 26 THEN 'Redwood City Medical Center'\n",
    "           WHEN start_station_id = 21 THEN 'Sequoia Hospital'\n",
    "           WHEN start_station_id = 33 THEN 'Rengstorff Avenue / California Street'\n",
    "           WHEN start_station_id = 25 THEN 'Broadway at Main'\n",
    "           WHEN start_station_id = 80 THEN 'San Jose Government Center'\n",
    "           WHEN start_station_id = 47 THEN 'Post at Kearny'\n",
    "           WHEN start_station_id = 46 THEN 'Washington at Kearny'\n",
    "           WHEN start_station_id = 83 THEN 'Mezes Park'\n",
    "           WHEN start_station_id = 88 THEN '5th St at E. San Salvador St'\n",
    "           ELSE start_station_name\n",
    "           END AS start_station_name_correct,\n",
    "        CASE WHEN end_station_id = 30 THEN 'Evelyn Park and Ride' \n",
    "           WHEN end_station_id = 26 THEN 'Redwood City Medical Center'\n",
    "           WHEN end_station_id = 21 THEN 'Sequoia Hospital'\n",
    "           WHEN end_station_id = 33 THEN 'Rengstorff Avenue / California Street'\n",
    "           WHEN end_station_id = 25 THEN 'Broadway at Main'\n",
    "           WHEN end_station_id = 80 THEN 'San Jose Government Center'\n",
    "           WHEN end_station_id = 47 THEN 'Post at Kearny'\n",
    "           WHEN end_station_id = 46 THEN 'Washington at Kearny'\n",
    "           WHEN end_station_id = 83 THEN 'Mezes Park'\n",
    "           WHEN end_station_id = 88 THEN '5th St at E. San Salvador St'\n",
    "           ELSE end_station_name\n",
    "           END AS end_station_name_correct\n",
    "FROM `bigquery-public-data.san_francisco.bikeshare_trips`\n",
    "WHERE duration_sec <= 300\n",
    "ORDER BY start_date ASC"
   ]
  },
  {
   "cell_type": "code",
   "execution_count": 77,
   "metadata": {},
   "outputs": [
    {
     "data": {
      "text/html": [
       "<div>\n",
       "<style scoped>\n",
       "    .dataframe tbody tr th:only-of-type {\n",
       "        vertical-align: middle;\n",
       "    }\n",
       "\n",
       "    .dataframe tbody tr th {\n",
       "        vertical-align: top;\n",
       "    }\n",
       "\n",
       "    .dataframe thead th {\n",
       "        text-align: right;\n",
       "    }\n",
       "</style>\n",
       "<table border=\"1\" class=\"dataframe\">\n",
       "  <thead>\n",
       "    <tr style=\"text-align: right;\">\n",
       "      <th></th>\n",
       "      <th>start_date</th>\n",
       "      <th>start_station_name_correct</th>\n",
       "      <th>end_station_name_correct</th>\n",
       "    </tr>\n",
       "  </thead>\n",
       "  <tbody>\n",
       "    <tr>\n",
       "      <th>0</th>\n",
       "      <td>2013-08-29 09:08:00+00:00</td>\n",
       "      <td>2nd at South Park</td>\n",
       "      <td>2nd at South Park</td>\n",
       "    </tr>\n",
       "    <tr>\n",
       "      <th>1</th>\n",
       "      <td>2013-08-29 09:38:00+00:00</td>\n",
       "      <td>Mountain View City Hall</td>\n",
       "      <td>Mountain View City Hall</td>\n",
       "    </tr>\n",
       "    <tr>\n",
       "      <th>2</th>\n",
       "      <td>2013-08-29 09:41:00+00:00</td>\n",
       "      <td>Mountain View City Hall</td>\n",
       "      <td>Mountain View City Hall</td>\n",
       "    </tr>\n",
       "    <tr>\n",
       "      <th>3</th>\n",
       "      <td>2013-08-29 09:42:00+00:00</td>\n",
       "      <td>Commercial at Montgomery</td>\n",
       "      <td>Commercial at Montgomery</td>\n",
       "    </tr>\n",
       "    <tr>\n",
       "      <th>4</th>\n",
       "      <td>2013-08-29 10:16:00+00:00</td>\n",
       "      <td>Mountain View City Hall</td>\n",
       "      <td>Mountain View City Hall</td>\n",
       "    </tr>\n",
       "  </tbody>\n",
       "</table>\n",
       "</div>"
      ],
      "text/plain": [
       "                 start_date start_station_name_correct  \\\n",
       "0 2013-08-29 09:08:00+00:00          2nd at South Park   \n",
       "1 2013-08-29 09:38:00+00:00    Mountain View City Hall   \n",
       "2 2013-08-29 09:41:00+00:00    Mountain View City Hall   \n",
       "3 2013-08-29 09:42:00+00:00   Commercial at Montgomery   \n",
       "4 2013-08-29 10:16:00+00:00    Mountain View City Hall   \n",
       "\n",
       "   end_station_name_correct  \n",
       "0         2nd at South Park  \n",
       "1   Mountain View City Hall  \n",
       "2   Mountain View City Hall  \n",
       "3  Commercial at Montgomery  \n",
       "4   Mountain View City Hall  "
      ]
     },
     "execution_count": 77,
     "metadata": {},
     "output_type": "execute_result"
    }
   ],
   "source": [
    "short_rides.head()"
   ]
  },
  {
   "cell_type": "code",
   "execution_count": 78,
   "metadata": {},
   "outputs": [
    {
     "data": {
      "text/plain": [
       "(180079, 3)"
      ]
     },
     "execution_count": 78,
     "metadata": {},
     "output_type": "execute_result"
    }
   ],
   "source": [
    "short_rides.shape"
   ]
  },
  {
   "cell_type": "markdown",
   "metadata": {},
   "source": [
    "Are some of these short rides with same start & end stations taken by new customers? Could there be a drop-off here for bringing in new customers? \n",
    "\n",
    "Most are **not** taken with the same start & end stations -- one follow up analysis to this one would be to examine whether the distances between those stations are bikeable in such a short time (perhaps by combining these data with data from Google maps)."
   ]
  },
  {
   "cell_type": "code",
   "execution_count": 79,
   "metadata": {},
   "outputs": [],
   "source": [
    "%%bigquery short_rides_same_station\n",
    "SELECT start_date,\n",
    "        CASE \n",
    "           WHEN start_station_id = 30 THEN 'Evelyn Park and Ride' \n",
    "           WHEN start_station_id = 26 THEN 'Redwood City Medical Center'\n",
    "           WHEN start_station_id = 21 THEN 'Sequoia Hospital'\n",
    "           WHEN start_station_id = 33 THEN 'Rengstorff Avenue / California Street'\n",
    "           WHEN start_station_id = 25 THEN 'Broadway at Main'\n",
    "           WHEN start_station_id = 80 THEN 'San Jose Government Center'\n",
    "           WHEN start_station_id = 47 THEN 'Post at Kearny'\n",
    "           WHEN start_station_id = 46 THEN 'Washington at Kearny'\n",
    "           WHEN start_station_id = 83 THEN 'Mezes Park'\n",
    "           WHEN start_station_id = 88 THEN '5th St at E. San Salvador St'\n",
    "           ELSE start_station_name\n",
    "           END AS start_station_name_correct,\n",
    "        CASE WHEN end_station_id = 30 THEN 'Evelyn Park and Ride' \n",
    "           WHEN end_station_id = 26 THEN 'Redwood City Medical Center'\n",
    "           WHEN end_station_id = 21 THEN 'Sequoia Hospital'\n",
    "           WHEN end_station_id = 33 THEN 'Rengstorff Avenue / California Street'\n",
    "           WHEN end_station_id = 25 THEN 'Broadway at Main'\n",
    "           WHEN end_station_id = 80 THEN 'San Jose Government Center'\n",
    "           WHEN end_station_id = 47 THEN 'Post at Kearny'\n",
    "           WHEN end_station_id = 46 THEN 'Washington at Kearny'\n",
    "           WHEN end_station_id = 83 THEN 'Mezes Park'\n",
    "           WHEN end_station_id = 88 THEN '5th St at E. San Salvador St'\n",
    "           ELSE end_station_name\n",
    "           END AS end_station_name_correct,\n",
    "       EXTRACT(YEAR FROM start_date) AS start_year\n",
    "FROM `bigquery-public-data.san_francisco.bikeshare_trips`\n",
    "WHERE duration_sec <= 300 AND start_station_id = end_station_id \n",
    "ORDER BY start_date ASC"
   ]
  },
  {
   "cell_type": "code",
   "execution_count": 80,
   "metadata": {},
   "outputs": [
    {
     "data": {
      "text/plain": [
       "(4334, 4)"
      ]
     },
     "execution_count": 80,
     "metadata": {},
     "output_type": "execute_result"
    }
   ],
   "source": [
    "short_rides_same_station.shape"
   ]
  },
  {
   "cell_type": "code",
   "execution_count": 81,
   "metadata": {},
   "outputs": [],
   "source": [
    "%%bigquery short_rides_same_station_customers\n",
    "SELECT start_date,\n",
    "        CASE \n",
    "           WHEN start_station_id = 30 THEN 'Evelyn Park and Ride' \n",
    "           WHEN start_station_id = 26 THEN 'Redwood City Medical Center'\n",
    "           WHEN start_station_id = 21 THEN 'Sequoia Hospital'\n",
    "           WHEN start_station_id = 33 THEN 'Rengstorff Avenue / California Street'\n",
    "           WHEN start_station_id = 25 THEN 'Broadway at Main'\n",
    "           WHEN start_station_id = 80 THEN 'San Jose Government Center'\n",
    "           WHEN start_station_id = 47 THEN 'Post at Kearny'\n",
    "           WHEN start_station_id = 46 THEN 'Washington at Kearny'\n",
    "           WHEN start_station_id = 83 THEN 'Mezes Park'\n",
    "           WHEN start_station_id = 88 THEN '5th St at E. San Salvador St'\n",
    "           ELSE start_station_name\n",
    "           END AS start_station_name_correct,\n",
    "        CASE WHEN end_station_id = 30 THEN 'Evelyn Park and Ride' \n",
    "           WHEN end_station_id = 26 THEN 'Redwood City Medical Center'\n",
    "           WHEN end_station_id = 21 THEN 'Sequoia Hospital'\n",
    "           WHEN end_station_id = 33 THEN 'Rengstorff Avenue / California Street'\n",
    "           WHEN end_station_id = 25 THEN 'Broadway at Main'\n",
    "           WHEN end_station_id = 80 THEN 'San Jose Government Center'\n",
    "           WHEN end_station_id = 47 THEN 'Post at Kearny'\n",
    "           WHEN end_station_id = 46 THEN 'Washington at Kearny'\n",
    "           WHEN end_station_id = 83 THEN 'Mezes Park'\n",
    "           WHEN end_station_id = 88 THEN '5th St at E. San Salvador St'\n",
    "           ELSE end_station_name\n",
    "           END AS end_station_name_correct,\n",
    "       EXTRACT(YEAR FROM start_date) AS start_year\n",
    "FROM `bigquery-public-data.san_francisco.bikeshare_trips`\n",
    "WHERE duration_sec <= 300 AND start_station_id = end_station_id AND subscriber_type = \"Customer\"\n",
    "ORDER BY start_date ASC"
   ]
  },
  {
   "cell_type": "code",
   "execution_count": 82,
   "metadata": {},
   "outputs": [
    {
     "data": {
      "text/plain": [
       "(1438, 4)"
      ]
     },
     "execution_count": 82,
     "metadata": {},
     "output_type": "execute_result"
    }
   ],
   "source": [
    "short_rides_same_station_customers.shape"
   ]
  },
  {
   "cell_type": "markdown",
   "metadata": {},
   "source": [
    "Proportion of rides that are under 5min with same start & end station taken by non-subscribed customers = 0.33 = 33%"
   ]
  },
  {
   "cell_type": "code",
   "execution_count": 83,
   "metadata": {},
   "outputs": [
    {
     "data": {
      "text/plain": [
       "0.33179510844485466"
      ]
     },
     "execution_count": 83,
     "metadata": {},
     "output_type": "execute_result"
    }
   ],
   "source": [
    "1438/4334"
   ]
  },
  {
   "cell_type": "markdown",
   "metadata": {},
   "source": [
    "Does it seem like this drop-off has changed over time (suggesting that Lyft bikes already addressed potential user issues)?"
   ]
  },
  {
   "cell_type": "code",
   "execution_count": 84,
   "metadata": {},
   "outputs": [],
   "source": [
    "short_rides_customers_by_year = pd.value_counts(short_rides_same_station_customers[\"start_year\"]).to_frame().sort_index().reset_index()\n"
   ]
  },
  {
   "cell_type": "markdown",
   "metadata": {},
   "source": [
    "Number of short rides that are taken by non-subscribed customers, by year:"
   ]
  },
  {
   "cell_type": "code",
   "execution_count": 85,
   "metadata": {},
   "outputs": [
    {
     "data": {
      "text/html": [
       "<div>\n",
       "<style scoped>\n",
       "    .dataframe tbody tr th:only-of-type {\n",
       "        vertical-align: middle;\n",
       "    }\n",
       "\n",
       "    .dataframe tbody tr th {\n",
       "        vertical-align: top;\n",
       "    }\n",
       "\n",
       "    .dataframe thead th {\n",
       "        text-align: right;\n",
       "    }\n",
       "</style>\n",
       "<table border=\"1\" class=\"dataframe\">\n",
       "  <thead>\n",
       "    <tr style=\"text-align: right;\">\n",
       "      <th></th>\n",
       "      <th>index</th>\n",
       "      <th>start_year</th>\n",
       "    </tr>\n",
       "  </thead>\n",
       "  <tbody>\n",
       "    <tr>\n",
       "      <th>0</th>\n",
       "      <td>2013</td>\n",
       "      <td>236</td>\n",
       "    </tr>\n",
       "    <tr>\n",
       "      <th>1</th>\n",
       "      <td>2014</td>\n",
       "      <td>508</td>\n",
       "    </tr>\n",
       "    <tr>\n",
       "      <th>2</th>\n",
       "      <td>2015</td>\n",
       "      <td>435</td>\n",
       "    </tr>\n",
       "    <tr>\n",
       "      <th>3</th>\n",
       "      <td>2016</td>\n",
       "      <td>259</td>\n",
       "    </tr>\n",
       "  </tbody>\n",
       "</table>\n",
       "</div>"
      ],
      "text/plain": [
       "   index  start_year\n",
       "0   2013         236\n",
       "1   2014         508\n",
       "2   2015         435\n",
       "3   2016         259"
      ]
     },
     "execution_count": 85,
     "metadata": {},
     "output_type": "execute_result"
    }
   ],
   "source": [
    "short_rides_customers_by_year"
   ]
  },
  {
   "cell_type": "markdown",
   "metadata": {},
   "source": [
    "Does this change in number of these short rides just reflect changes in overall ridership? The proportion that are taken by customers versus subscribers has increased over time (from 30% in 2013 to 36% in 2016). This suggests that either it has gotten harder for new customers to correctly start a ride, or that subscribers have had an increasingly easy time. It's hard to say but addressing user experience issues will undoubtedly provide a benefit either way (for riders and perhaps also for profits). "
   ]
  },
  {
   "cell_type": "code",
   "execution_count": 86,
   "metadata": {},
   "outputs": [],
   "source": [
    "short_rides_by_year = pd.value_counts(short_rides_same_station[\"start_year\"]).to_frame().sort_index().reset_index()\n"
   ]
  },
  {
   "cell_type": "markdown",
   "metadata": {},
   "source": [
    "Number of short rides, by year:"
   ]
  },
  {
   "cell_type": "code",
   "execution_count": 88,
   "metadata": {},
   "outputs": [
    {
     "data": {
      "text/html": [
       "<div>\n",
       "<style scoped>\n",
       "    .dataframe tbody tr th:only-of-type {\n",
       "        vertical-align: middle;\n",
       "    }\n",
       "\n",
       "    .dataframe tbody tr th {\n",
       "        vertical-align: top;\n",
       "    }\n",
       "\n",
       "    .dataframe thead th {\n",
       "        text-align: right;\n",
       "    }\n",
       "</style>\n",
       "<table border=\"1\" class=\"dataframe\">\n",
       "  <thead>\n",
       "    <tr style=\"text-align: right;\">\n",
       "      <th></th>\n",
       "      <th>index</th>\n",
       "      <th>start_year</th>\n",
       "    </tr>\n",
       "  </thead>\n",
       "  <tbody>\n",
       "    <tr>\n",
       "      <th>0</th>\n",
       "      <td>2013</td>\n",
       "      <td>793</td>\n",
       "    </tr>\n",
       "    <tr>\n",
       "      <th>1</th>\n",
       "      <td>2014</td>\n",
       "      <td>1520</td>\n",
       "    </tr>\n",
       "    <tr>\n",
       "      <th>2</th>\n",
       "      <td>2015</td>\n",
       "      <td>1299</td>\n",
       "    </tr>\n",
       "    <tr>\n",
       "      <th>3</th>\n",
       "      <td>2016</td>\n",
       "      <td>722</td>\n",
       "    </tr>\n",
       "  </tbody>\n",
       "</table>\n",
       "</div>"
      ],
      "text/plain": [
       "   index  start_year\n",
       "0   2013         793\n",
       "1   2014        1520\n",
       "2   2015        1299\n",
       "3   2016         722"
      ]
     },
     "execution_count": 88,
     "metadata": {},
     "output_type": "execute_result"
    }
   ],
   "source": [
    "short_rides_by_year"
   ]
  },
  {
   "cell_type": "markdown",
   "metadata": {},
   "source": [
    "Proportion of short rides that are taken by non-subscribed customers compared to short rides over all, by year:"
   ]
  },
  {
   "cell_type": "code",
   "execution_count": 87,
   "metadata": {},
   "outputs": [
    {
     "data": {
      "text/plain": [
       "0    0.297604\n",
       "1    0.334211\n",
       "2    0.334873\n",
       "3    0.358726\n",
       "Name: start_year, dtype: float64"
      ]
     },
     "execution_count": 87,
     "metadata": {},
     "output_type": "execute_result"
    }
   ],
   "source": [
    "short_rides_customers_by_year[\"start_year\"]/short_rides_by_year[\"start_year\"]"
   ]
  },
  {
   "cell_type": "markdown",
   "metadata": {},
   "source": [
    "### Recommendation for addressing issues of new customers\n",
    "\n",
    "Since one-third of these short rides with the same start and end stations are taken by customers who are either new or don't use the bikes a lot (since they are not subscribers), there could be a usability issue with the bikes that could be addressed with user-experience research. Since the proportion of these compared to subscribed customers has increased over time, it appears that there is an existing usability issue that has not been addressed in previous iterations of the platform (or that subscribers have had an increasingly easy time of it compared to non-subscribed customers over time). I would recommend that Lyft bikes invest in some user experience research to uncover whether there is something preventing new potential customers from going through with their rides -- or if this is just an anomaly in the data."
   ]
  },
  {
   "cell_type": "markdown",
   "metadata": {},
   "source": [
    "## Appendix: Supplemental Data Processing Notes\n",
    "\n",
    "This section provides additional information about some of the data processing and cleaning decisions."
   ]
  },
  {
   "cell_type": "markdown",
   "metadata": {},
   "source": [
    "We don't have any obviously missing data (any Nas) to fill in. This does not mean that the data are complete -- some data could have been filled in with a default value. "
   ]
  },
  {
   "cell_type": "code",
   "execution_count": 89,
   "metadata": {},
   "outputs": [
    {
     "name": "stdout",
     "output_type": "stream",
     "text": [
      "Executing query with job ID: 3521fce3-8d72-4f77-9da5-5b9950568e77\n",
      "Query executing: 0.54s"
     ]
    }
   ],
   "source": [
    "%%bigquery bikeshare_trips\n",
    "SELECT *,\n",
    "FROM `bigquery-public-data.san_francisco.bikeshare_trips`"
   ]
  },
  {
   "cell_type": "code",
   "execution_count": 90,
   "metadata": {},
   "outputs": [],
   "source": [
    "percent_missing = bikeshare_trips.isnull().sum() * 100 / len(bikeshare_trips)\n",
    "missing_value_df = pd.DataFrame({'column_name': bikeshare_trips.columns,\n",
    "                                 'percent_missing': percent_missing})"
   ]
  },
  {
   "cell_type": "code",
   "execution_count": 91,
   "metadata": {},
   "outputs": [
    {
     "data": {
      "text/html": [
       "<div>\n",
       "<style scoped>\n",
       "    .dataframe tbody tr th:only-of-type {\n",
       "        vertical-align: middle;\n",
       "    }\n",
       "\n",
       "    .dataframe tbody tr th {\n",
       "        vertical-align: top;\n",
       "    }\n",
       "\n",
       "    .dataframe thead th {\n",
       "        text-align: right;\n",
       "    }\n",
       "</style>\n",
       "<table border=\"1\" class=\"dataframe\">\n",
       "  <thead>\n",
       "    <tr style=\"text-align: right;\">\n",
       "      <th></th>\n",
       "      <th>column_name</th>\n",
       "      <th>percent_missing</th>\n",
       "    </tr>\n",
       "  </thead>\n",
       "  <tbody>\n",
       "    <tr>\n",
       "      <th>trip_id</th>\n",
       "      <td>trip_id</td>\n",
       "      <td>0.0</td>\n",
       "    </tr>\n",
       "    <tr>\n",
       "      <th>duration_sec</th>\n",
       "      <td>duration_sec</td>\n",
       "      <td>0.0</td>\n",
       "    </tr>\n",
       "    <tr>\n",
       "      <th>start_date</th>\n",
       "      <td>start_date</td>\n",
       "      <td>0.0</td>\n",
       "    </tr>\n",
       "    <tr>\n",
       "      <th>start_station_name</th>\n",
       "      <td>start_station_name</td>\n",
       "      <td>0.0</td>\n",
       "    </tr>\n",
       "    <tr>\n",
       "      <th>start_station_id</th>\n",
       "      <td>start_station_id</td>\n",
       "      <td>0.0</td>\n",
       "    </tr>\n",
       "    <tr>\n",
       "      <th>end_date</th>\n",
       "      <td>end_date</td>\n",
       "      <td>0.0</td>\n",
       "    </tr>\n",
       "    <tr>\n",
       "      <th>end_station_name</th>\n",
       "      <td>end_station_name</td>\n",
       "      <td>0.0</td>\n",
       "    </tr>\n",
       "    <tr>\n",
       "      <th>end_station_id</th>\n",
       "      <td>end_station_id</td>\n",
       "      <td>0.0</td>\n",
       "    </tr>\n",
       "    <tr>\n",
       "      <th>bike_number</th>\n",
       "      <td>bike_number</td>\n",
       "      <td>0.0</td>\n",
       "    </tr>\n",
       "    <tr>\n",
       "      <th>zip_code</th>\n",
       "      <td>zip_code</td>\n",
       "      <td>0.0</td>\n",
       "    </tr>\n",
       "    <tr>\n",
       "      <th>subscriber_type</th>\n",
       "      <td>subscriber_type</td>\n",
       "      <td>0.0</td>\n",
       "    </tr>\n",
       "  </tbody>\n",
       "</table>\n",
       "</div>"
      ],
      "text/plain": [
       "                           column_name  percent_missing\n",
       "trip_id                        trip_id              0.0\n",
       "duration_sec              duration_sec              0.0\n",
       "start_date                  start_date              0.0\n",
       "start_station_name  start_station_name              0.0\n",
       "start_station_id      start_station_id              0.0\n",
       "end_date                      end_date              0.0\n",
       "end_station_name      end_station_name              0.0\n",
       "end_station_id          end_station_id              0.0\n",
       "bike_number                bike_number              0.0\n",
       "zip_code                      zip_code              0.0\n",
       "subscriber_type        subscriber_type              0.0"
      ]
     },
     "execution_count": 91,
     "metadata": {},
     "output_type": "execute_result"
    }
   ],
   "source": [
    "missing_value_df"
   ]
  },
  {
   "cell_type": "markdown",
   "metadata": {},
   "source": [
    "#### Further data cleaning\n",
    "\n",
    "##### Check station names & ids\n",
    "\n",
    "Are station names correct? Should we rely mainly on the IDs? "
   ]
  },
  {
   "cell_type": "code",
   "execution_count": 92,
   "metadata": {},
   "outputs": [],
   "source": [
    "%%bigquery results\n",
    "SELECT *,\n",
    "       CASE \n",
    "           WHEN EXTRACT(DAYOFWEEK FROM start_date) IN (2, 3, 4, 5, 6) AND ((EXTRACT(HOUR FROM start_date) >= 7 AND EXTRACT(HOUR FROM start_date) <= 9) OR (EXTRACT(HOUR FROM start_date) >= 16 AND EXTRACT(HOUR FROM start_date) <= 18)) THEN \"Rush\"\n",
    "           ELSE \"Not Rush\"\n",
    "           END AS rush_hour,\n",
    "FROM `bigquery-public-data.san_francisco.bikeshare_trips`\n",
    "WHERE duration_sec < 86400 AND NOT (duration_sec < 300 AND start_station_id = end_station_id)"
   ]
  },
  {
   "cell_type": "code",
   "execution_count": 93,
   "metadata": {},
   "outputs": [
    {
     "data": {
      "text/plain": [
       "74"
      ]
     },
     "execution_count": 93,
     "metadata": {},
     "output_type": "execute_result"
    }
   ],
   "source": [
    "len(results[\"start_station_id\"].unique())"
   ]
  },
  {
   "cell_type": "code",
   "execution_count": null,
   "metadata": {},
   "outputs": [
    {
     "data": {
      "text/plain": [
       "True"
      ]
     },
     "execution_count": 94,
     "metadata": {},
     "output_type": "execute_result"
    }
   ],
   "source": [
    "len(results[\"start_station_id\"].unique()) == len(results[\"end_station_id\"].unique())"
   ]
  },
  {
   "cell_type": "code",
   "execution_count": null,
   "metadata": {},
   "outputs": [
    {
     "data": {
      "text/plain": [
       "84"
      ]
     },
     "execution_count": 95,
     "metadata": {},
     "output_type": "execute_result"
    }
   ],
   "source": [
    "len(results[\"start_station_name\"].unique())"
   ]
  },
  {
   "cell_type": "code",
   "execution_count": null,
   "metadata": {},
   "outputs": [
    {
     "data": {
      "text/plain": [
       "True"
      ]
     },
     "execution_count": 96,
     "metadata": {},
     "output_type": "execute_result"
    }
   ],
   "source": [
    "len(results[\"start_station_name\"].unique()) == len(results[\"end_station_name\"].unique())"
   ]
  },
  {
   "cell_type": "markdown",
   "metadata": {},
   "source": [
    "It looks like there are more names than IDs -- and that the start & end station ids/names are the same.\n",
    "Let's pull out the ones with issues."
   ]
  },
  {
   "cell_type": "code",
   "execution_count": null,
   "metadata": {},
   "outputs": [],
   "source": [
    "# initialize list of ids\n",
    "ids = results[\"start_station_id\"].unique()\n",
    "# initialize empty list to store problem IDs\n",
    "id_issues = []\n",
    "\n",
    "# loop through IDs and add problem IDs to list\n",
    "for i in range(0, len(ids)):\n",
    "    if len(results[\"start_station_name\"][results[\"start_station_id\"] == ids[i]].unique()) > 1:\n",
    "        id_issues.append(ids[i])   "
   ]
  },
  {
   "cell_type": "markdown",
   "metadata": {},
   "source": [
    "Let's look at the station names attached to IDs with multiple names. "
   ]
  },
  {
   "cell_type": "code",
   "execution_count": null,
   "metadata": {},
   "outputs": [
    {
     "name": "stdout",
     "output_type": "stream",
     "text": [
      "['Mezes' 'Mezes Park']\n",
      "['Kaiser Hospital' 'Redwood City Medical Center']\n",
      "['Sequoia Hospital' 'Franklin at Maple']\n",
      "['San Jose Government Center' 'Santa Clara County Civic Center']\n",
      "['5th S at E. San Salvador St' '5th St at E. San Salvador St']\n",
      "['Rengstorff Avenue / California Street'\n",
      " 'Charleston Park/ North Bayshore Area']\n",
      "['Broadway at Main' 'Stanford in Redwood City']\n",
      "['Post at Kearny' 'Post at Kearney']\n",
      "['Washington at Kearny' 'Washington at Kearney']\n",
      "['Middlefield Light Rail Station' 'Evelyn Park and Ride']\n"
     ]
    }
   ],
   "source": [
    "for i in range(0, len(id_issues)):\n",
    "    print(results[\"start_station_name\"][results[\"start_station_id\"] == id_issues[i]].unique())"
   ]
  },
  {
   "cell_type": "markdown",
   "metadata": {},
   "source": [
    "By looking up these station names on Google, it appears that these discrepancies reflect minor spelling errors or identifying the same general area with a different name. \n",
    "\n",
    "This exploration was the basis for corrections I made in my SQL query. Some were minor spelling issues. For others, it was a correction based on station proximity -- all of the station locations for each ID were close enough that I chose one of the two names for the station arbitrarily based on the map. "
   ]
  }
 ],
 "metadata": {
  "kernelspec": {
   "display_name": "Python 3",
   "language": "python",
   "name": "python3"
  },
  "language_info": {
   "codemirror_mode": {
    "name": "ipython",
    "version": 3
   },
   "file_extension": ".py",
   "mimetype": "text/x-python",
   "name": "python",
   "nbconvert_exporter": "python",
   "pygments_lexer": "ipython3",
   "version": "3.5.3"
  }
 },
 "nbformat": 4,
 "nbformat_minor": 4
}
